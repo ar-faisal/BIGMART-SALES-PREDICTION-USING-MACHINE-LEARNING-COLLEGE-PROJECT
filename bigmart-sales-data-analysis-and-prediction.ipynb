{
 "cells": [
  {
   "cell_type": "markdown",
   "metadata": {
    "papermill": {
     "duration": 0.041852,
     "end_time": "2020-11-18T12:53:42.417621",
     "exception": false,
     "start_time": "2020-11-18T12:53:42.375769",
     "status": "completed"
    },
    "tags": []
   },
   "source": [
    "# <h2 style='text-align:center;font-family:Comic Sans MS;font-size:40px;background-color:coral;border:20px;color:white'>Bigmart Sales Dataset<h2>\n",
    "    \n"
   ]
  },
  {
   "cell_type": "markdown",
   "metadata": {
    "papermill": {
     "duration": 0.039073,
     "end_time": "2020-11-18T12:53:42.497092",
     "exception": false,
     "start_time": "2020-11-18T12:53:42.458019",
     "status": "completed"
    },
    "tags": []
   },
   "source": [
    "![](https://encrypted-tbn0.gstatic.com/images?q=tbn%3AANd9GcQ5giJqwHM3QPu5r6wyYq-J6OIVmmU2Z-Bs1g&usqp=CAU)"
   ]
  },
  {
   "cell_type": "markdown",
   "metadata": {
    "papermill": {
     "duration": 0.03918,
     "end_time": "2020-11-18T12:53:42.575855",
     "exception": false,
     "start_time": "2020-11-18T12:53:42.536675",
     "status": "completed"
    },
    "tags": []
   },
   "source": [
    "<h2 style='text-align:center;font-size:20px;font-family:Comic Sans MS;background-color:coral;border:20px;color:white'> Table of Contents<h2>"
   ]
  },
  {
   "cell_type": "markdown",
   "metadata": {
    "papermill": {
     "duration": 0.039547,
     "end_time": "2020-11-18T12:53:42.655081",
     "exception": false,
     "start_time": "2020-11-18T12:53:42.615534",
     "status": "completed"
    },
    "tags": []
   },
   "source": [
    "## 1. Introducion\n",
    "## 2. Data Id\n",
    "## 3. Libraries\n",
    "## 4. File path\n",
    "## 5. Preprocessing and Data Analysis\n",
    "## 6. Machine learning models\n",
    "## 7. Conclusion"
   ]
  },
  {
   "cell_type": "markdown",
   "metadata": {
    "papermill": {
     "duration": 0.040402,
     "end_time": "2020-11-18T12:53:42.735162",
     "exception": false,
     "start_time": "2020-11-18T12:53:42.694760",
     "status": "completed"
    },
    "tags": []
   },
   "source": [
    "# Introducion"
   ]
  },
  {
   "cell_type": "markdown",
   "metadata": {
    "papermill": {
     "duration": 0.039899,
     "end_time": "2020-11-18T12:53:42.815767",
     "exception": false,
     "start_time": "2020-11-18T12:53:42.775868",
     "status": "completed"
    },
    "tags": []
   },
   "source": [
    "### Problem Statement:\n",
    "The data scientists at BigMart have collected sales data for 1559 products across 10 stores in different cities for the year 2013. Now each product has certain attributes that sets it apart from other products.\n",
    "\n",
    "### Breakdown of the Problem Statement:\n",
    "* Supervised machine learning problem.\n",
    "* The target value will be `Item_Outlet_Sales`.\n",
    "\n",
    "### Aim of the NoteBook:\n",
    "The objective is to create a model that can predict the sales per product for each store. Using this model, BigMart will try to understand the properties of products and stores which play a key role in increasing sales. \n",
    "\n",
    "![](https://media3.giphy.com/media/KzmyU9ge5rIawBBf9X/200w.webp?cid=ecf05e47ztuoodshsikdzhhqtzfcey8gcvfeosk6j0ihcbdn&rid=200w.webp)\n",
    "\n",
    "# Data Id 📋\n",
    "\n",
    "This dataset is named [BigMart Sales](https://www.kaggle.com/brijbhushannanda1979/bigmart-sales-data). The dataset contains a set of **8,523 records** under **12 attributes**:\n",
    "\n",
    "\n",
    "| Column Name                         | Description                                                    |\n",
    "|------------------                   |----------------------------------------------------------------|\n",
    "| `Item_Identifier`                   | Unique product ID                                              |\n",
    "| `Item_Weight`                       | Weight of product                                              |\n",
    "| `Item_Fat_Content`                  | Checks the Concentration of fat in the product                 |\n",
    "| `Item_Visibility`                   | The % of total display area of all similar products in a store |\n",
    "| `Item_Type`                         | Product Category                                               |\n",
    "| `Item_MRP`                          | Maximum Retail Price for a Product                             |\n",
    "| `Outlet_Identifier`                 | Store ID                                                       |\n",
    "| `Outlet_Establishment_Year`         | The year in which store was established                        |\n",
    "| `Outlet_Size`                       | The size of the store (Area Size Category)                     |\n",
    "| `Outlet_Location_Type`              | In Terms of city Tiers (Size)                                  |\n",
    "| `Outlet_Type`                       | Grocery store or a type of    supermarket                      |\n",
    "| `Item_Outlet_Sales`                 | Sales of the product In the Specific outlet                    |"
   ]
  },
  {
   "cell_type": "markdown",
   "metadata": {
    "papermill": {
     "duration": 0.039616,
     "end_time": "2020-11-18T12:53:42.895382",
     "exception": false,
     "start_time": "2020-11-18T12:53:42.855766",
     "status": "completed"
    },
    "tags": []
   },
   "source": [
    "# Libraries 📕📗📘\n",
    "\n",
    "![](https://media3.giphy.com/media/7E8lI6TkLrvvAcPXso/200w.webp?cid=ecf05e47gdqv5pdj8vy567mreujdobhq7nm0jwq3pjjdlqj0&rid=200w.webp)"
   ]
  },
  {
   "cell_type": "code",
   "execution_count": 1,
   "metadata": {
    "execution": {
     "iopub.execute_input": "2020-11-18T12:53:42.984480Z",
     "iopub.status.busy": "2020-11-18T12:53:42.983767Z",
     "iopub.status.idle": "2020-11-18T12:53:44.045481Z",
     "shell.execute_reply": "2020-11-18T12:53:44.044764Z"
    },
    "papermill": {
     "duration": 1.110263,
     "end_time": "2020-11-18T12:53:44.045611",
     "exception": false,
     "start_time": "2020-11-18T12:53:42.935348",
     "status": "completed"
    },
    "tags": []
   },
   "outputs": [],
   "source": [
    "import os #paths to file\n",
    "import numpy as np # linear algebra\n",
    "import pandas as pd # data processing\n",
    "import warnings# warning filter\n",
    "\n",
    "\n",
    "#ploting libraries\n",
    "import matplotlib.pyplot as plt \n",
    "import seaborn as sns\n",
    "\n",
    "#feature engineering\n",
    "from sklearn.preprocessing import OneHotEncoder\n",
    "from sklearn.preprocessing import LabelEncoder\n",
    "\n",
    "#train test split\n",
    "from sklearn.model_selection import train_test_split\n",
    "\n",
    "#metrics\n",
    "from sklearn.metrics import mean_absolute_error as MAE\n",
    "from sklearn.metrics import mean_squared_error as MSE\n",
    "from sklearn.metrics import r2_score as R2\n",
    "from sklearn.model_selection  import cross_val_score as CVS\n",
    "\n",
    "\n",
    "#ML models\n",
    "from sklearn.linear_model import LinearRegression\n",
    "from sklearn.ensemble import RandomForestRegressor\n",
    "from sklearn.linear_model import Lasso\n",
    "\n",
    "\n",
    "#default theme and settings\n",
    "sns.set(context='notebook', style='darkgrid', palette='deep', font='sans-serif', font_scale=1, color_codes=False, rc=None)\n",
    "pd.options.display.max_columns\n",
    "\n",
    "#warning hadle\n",
    "warnings.filterwarnings(\"always\")\n",
    "warnings.filterwarnings(\"ignore\")"
   ]
  },
  {
   "cell_type": "markdown",
   "metadata": {
    "papermill": {
     "duration": 0.040211,
     "end_time": "2020-11-18T12:53:44.126031",
     "exception": false,
     "start_time": "2020-11-18T12:53:44.085820",
     "status": "completed"
    },
    "tags": []
   },
   "source": [
    "# File Paths 📂"
   ]
  },
  {
   "cell_type": "code",
   "execution_count": null,
   "metadata": {
    "_cell_guid": "79c7e3d0-c299-4dcb-8224-4455121ee9b0",
    "_uuid": "d629ff2d2480ee46fbb7e2d37f6b5fab8052498a",
    "execution": {
     "iopub.execute_input": "2020-11-18T12:53:44.211857Z",
     "iopub.status.busy": "2020-11-18T12:53:44.211221Z",
     "iopub.status.idle": "2020-11-18T12:53:44.217377Z",
     "shell.execute_reply": "2020-11-18T12:53:44.218222Z"
    },
    "papermill": {
     "duration": 0.052158,
     "end_time": "2020-11-18T12:53:44.218447",
     "exception": false,
     "start_time": "2020-11-18T12:53:44.166289",
     "status": "completed"
    },
    "tags": []
   },
   "outputs": [],
   "source": []
  },
  {
   "cell_type": "code",
   "execution_count": 2,
   "metadata": {
    "execution": {
     "iopub.execute_input": "2020-11-18T12:53:44.306629Z",
     "iopub.status.busy": "2020-11-18T12:53:44.305656Z",
     "iopub.status.idle": "2020-11-18T12:53:44.309139Z",
     "shell.execute_reply": "2020-11-18T12:53:44.308541Z"
    },
    "papermill": {
     "duration": 0.048552,
     "end_time": "2020-11-18T12:53:44.309304",
     "exception": false,
     "start_time": "2020-11-18T12:53:44.260752",
     "status": "completed"
    },
    "tags": []
   },
   "outputs": [],
   "source": [
    "#path for the training set\n",
    "tr_path = \"Train.csv\"\n",
    "#path for the testing set\n",
    "te_path = \"Test.csv\""
   ]
  },
  {
   "cell_type": "markdown",
   "metadata": {
    "papermill": {
     "duration": 0.040097,
     "end_time": "2020-11-18T12:53:44.389862",
     "exception": false,
     "start_time": "2020-11-18T12:53:44.349765",
     "status": "completed"
    },
    "tags": []
   },
   "source": [
    "# Preprocessing and Data Analysis 💻\n",
    "\n",
    "## First look at the data:\n",
    "Training set:"
   ]
  },
  {
   "cell_type": "code",
   "execution_count": 3,
   "metadata": {
    "execution": {
     "iopub.execute_input": "2020-11-18T12:53:44.478864Z",
     "iopub.status.busy": "2020-11-18T12:53:44.478178Z",
     "iopub.status.idle": "2020-11-18T12:53:44.531896Z",
     "shell.execute_reply": "2020-11-18T12:53:44.531309Z"
    },
    "papermill": {
     "duration": 0.100933,
     "end_time": "2020-11-18T12:53:44.531999",
     "exception": false,
     "start_time": "2020-11-18T12:53:44.431066",
     "status": "completed"
    },
    "tags": []
   },
   "outputs": [
    {
     "data": {
      "text/html": [
       "<div>\n",
       "<style scoped>\n",
       "    .dataframe tbody tr th:only-of-type {\n",
       "        vertical-align: middle;\n",
       "    }\n",
       "\n",
       "    .dataframe tbody tr th {\n",
       "        vertical-align: top;\n",
       "    }\n",
       "\n",
       "    .dataframe thead th {\n",
       "        text-align: right;\n",
       "    }\n",
       "</style>\n",
       "<table border=\"1\" class=\"dataframe\">\n",
       "  <thead>\n",
       "    <tr style=\"text-align: right;\">\n",
       "      <th></th>\n",
       "      <th>Item_Identifier</th>\n",
       "      <th>Item_Weight</th>\n",
       "      <th>Item_Fat_Content</th>\n",
       "      <th>Item_Visibility</th>\n",
       "      <th>Item_Type</th>\n",
       "      <th>Item_MRP</th>\n",
       "      <th>Outlet_Identifier</th>\n",
       "      <th>Outlet_Establishment_Year</th>\n",
       "      <th>Outlet_Size</th>\n",
       "      <th>Outlet_Location_Type</th>\n",
       "      <th>Outlet_Type</th>\n",
       "      <th>Item_Outlet_Sales</th>\n",
       "    </tr>\n",
       "  </thead>\n",
       "  <tbody>\n",
       "    <tr>\n",
       "      <th>0</th>\n",
       "      <td>FDA15</td>\n",
       "      <td>9.30</td>\n",
       "      <td>Low Fat</td>\n",
       "      <td>0.016047</td>\n",
       "      <td>Dairy</td>\n",
       "      <td>249.8092</td>\n",
       "      <td>OUT049</td>\n",
       "      <td>1999</td>\n",
       "      <td>Medium</td>\n",
       "      <td>Tier 1</td>\n",
       "      <td>Supermarket Type1</td>\n",
       "      <td>3735.1380</td>\n",
       "    </tr>\n",
       "    <tr>\n",
       "      <th>1</th>\n",
       "      <td>DRC01</td>\n",
       "      <td>5.92</td>\n",
       "      <td>Regular</td>\n",
       "      <td>0.019278</td>\n",
       "      <td>Soft Drinks</td>\n",
       "      <td>48.2692</td>\n",
       "      <td>OUT018</td>\n",
       "      <td>2009</td>\n",
       "      <td>Medium</td>\n",
       "      <td>Tier 3</td>\n",
       "      <td>Supermarket Type2</td>\n",
       "      <td>443.4228</td>\n",
       "    </tr>\n",
       "    <tr>\n",
       "      <th>2</th>\n",
       "      <td>FDN15</td>\n",
       "      <td>17.50</td>\n",
       "      <td>Low Fat</td>\n",
       "      <td>0.016760</td>\n",
       "      <td>Meat</td>\n",
       "      <td>141.6180</td>\n",
       "      <td>OUT049</td>\n",
       "      <td>1999</td>\n",
       "      <td>Medium</td>\n",
       "      <td>Tier 1</td>\n",
       "      <td>Supermarket Type1</td>\n",
       "      <td>2097.2700</td>\n",
       "    </tr>\n",
       "    <tr>\n",
       "      <th>3</th>\n",
       "      <td>FDX07</td>\n",
       "      <td>19.20</td>\n",
       "      <td>Regular</td>\n",
       "      <td>0.000000</td>\n",
       "      <td>Fruits and Vegetables</td>\n",
       "      <td>182.0950</td>\n",
       "      <td>OUT010</td>\n",
       "      <td>1998</td>\n",
       "      <td>NaN</td>\n",
       "      <td>Tier 3</td>\n",
       "      <td>Grocery Store</td>\n",
       "      <td>732.3800</td>\n",
       "    </tr>\n",
       "    <tr>\n",
       "      <th>4</th>\n",
       "      <td>NCD19</td>\n",
       "      <td>8.93</td>\n",
       "      <td>Low Fat</td>\n",
       "      <td>0.000000</td>\n",
       "      <td>Household</td>\n",
       "      <td>53.8614</td>\n",
       "      <td>OUT013</td>\n",
       "      <td>1987</td>\n",
       "      <td>High</td>\n",
       "      <td>Tier 3</td>\n",
       "      <td>Supermarket Type1</td>\n",
       "      <td>994.7052</td>\n",
       "    </tr>\n",
       "  </tbody>\n",
       "</table>\n",
       "</div>"
      ],
      "text/plain": [
       "  Item_Identifier  Item_Weight Item_Fat_Content  Item_Visibility  \\\n",
       "0           FDA15         9.30          Low Fat         0.016047   \n",
       "1           DRC01         5.92          Regular         0.019278   \n",
       "2           FDN15        17.50          Low Fat         0.016760   \n",
       "3           FDX07        19.20          Regular         0.000000   \n",
       "4           NCD19         8.93          Low Fat         0.000000   \n",
       "\n",
       "               Item_Type  Item_MRP Outlet_Identifier  \\\n",
       "0                  Dairy  249.8092            OUT049   \n",
       "1            Soft Drinks   48.2692            OUT018   \n",
       "2                   Meat  141.6180            OUT049   \n",
       "3  Fruits and Vegetables  182.0950            OUT010   \n",
       "4              Household   53.8614            OUT013   \n",
       "\n",
       "   Outlet_Establishment_Year Outlet_Size Outlet_Location_Type  \\\n",
       "0                       1999      Medium               Tier 1   \n",
       "1                       2009      Medium               Tier 3   \n",
       "2                       1999      Medium               Tier 1   \n",
       "3                       1998         NaN               Tier 3   \n",
       "4                       1987        High               Tier 3   \n",
       "\n",
       "         Outlet_Type  Item_Outlet_Sales  \n",
       "0  Supermarket Type1          3735.1380  \n",
       "1  Supermarket Type2           443.4228  \n",
       "2  Supermarket Type1          2097.2700  \n",
       "3      Grocery Store           732.3800  \n",
       "4  Supermarket Type1           994.7052  "
      ]
     },
     "execution_count": 3,
     "metadata": {},
     "output_type": "execute_result"
    }
   ],
   "source": [
    "# read in csv file as a DataFrame\n",
    "tr_df = pd.read_csv(tr_path)\n",
    "# explore the first 5 rows\n",
    "tr_df.head()"
   ]
  },
  {
   "cell_type": "markdown",
   "metadata": {
    "papermill": {
     "duration": 0.040751,
     "end_time": "2020-11-18T12:53:44.614212",
     "exception": false,
     "start_time": "2020-11-18T12:53:44.573461",
     "status": "completed"
    },
    "tags": []
   },
   "source": [
    "Testing set:"
   ]
  },
  {
   "cell_type": "code",
   "execution_count": 4,
   "metadata": {
    "execution": {
     "iopub.execute_input": "2020-11-18T12:53:44.701815Z",
     "iopub.status.busy": "2020-11-18T12:53:44.701083Z",
     "iopub.status.idle": "2020-11-18T12:53:44.733875Z",
     "shell.execute_reply": "2020-11-18T12:53:44.734329Z"
    },
    "papermill": {
     "duration": 0.079024,
     "end_time": "2020-11-18T12:53:44.734482",
     "exception": false,
     "start_time": "2020-11-18T12:53:44.655458",
     "status": "completed"
    },
    "tags": []
   },
   "outputs": [
    {
     "data": {
      "text/html": [
       "<div>\n",
       "<style scoped>\n",
       "    .dataframe tbody tr th:only-of-type {\n",
       "        vertical-align: middle;\n",
       "    }\n",
       "\n",
       "    .dataframe tbody tr th {\n",
       "        vertical-align: top;\n",
       "    }\n",
       "\n",
       "    .dataframe thead th {\n",
       "        text-align: right;\n",
       "    }\n",
       "</style>\n",
       "<table border=\"1\" class=\"dataframe\">\n",
       "  <thead>\n",
       "    <tr style=\"text-align: right;\">\n",
       "      <th></th>\n",
       "      <th>Item_Identifier</th>\n",
       "      <th>Item_Weight</th>\n",
       "      <th>Item_Fat_Content</th>\n",
       "      <th>Item_Visibility</th>\n",
       "      <th>Item_Type</th>\n",
       "      <th>Item_MRP</th>\n",
       "      <th>Outlet_Identifier</th>\n",
       "      <th>Outlet_Establishment_Year</th>\n",
       "      <th>Outlet_Size</th>\n",
       "      <th>Outlet_Location_Type</th>\n",
       "      <th>Outlet_Type</th>\n",
       "    </tr>\n",
       "  </thead>\n",
       "  <tbody>\n",
       "    <tr>\n",
       "      <th>0</th>\n",
       "      <td>FDW58</td>\n",
       "      <td>20.750</td>\n",
       "      <td>Low Fat</td>\n",
       "      <td>0.007565</td>\n",
       "      <td>Snack Foods</td>\n",
       "      <td>107.8622</td>\n",
       "      <td>OUT049</td>\n",
       "      <td>1999</td>\n",
       "      <td>Medium</td>\n",
       "      <td>Tier 1</td>\n",
       "      <td>Supermarket Type1</td>\n",
       "    </tr>\n",
       "    <tr>\n",
       "      <th>1</th>\n",
       "      <td>FDW14</td>\n",
       "      <td>8.300</td>\n",
       "      <td>reg</td>\n",
       "      <td>0.038428</td>\n",
       "      <td>Dairy</td>\n",
       "      <td>87.3198</td>\n",
       "      <td>OUT017</td>\n",
       "      <td>2007</td>\n",
       "      <td>NaN</td>\n",
       "      <td>Tier 2</td>\n",
       "      <td>Supermarket Type1</td>\n",
       "    </tr>\n",
       "    <tr>\n",
       "      <th>2</th>\n",
       "      <td>NCN55</td>\n",
       "      <td>14.600</td>\n",
       "      <td>Low Fat</td>\n",
       "      <td>0.099575</td>\n",
       "      <td>Others</td>\n",
       "      <td>241.7538</td>\n",
       "      <td>OUT010</td>\n",
       "      <td>1998</td>\n",
       "      <td>NaN</td>\n",
       "      <td>Tier 3</td>\n",
       "      <td>Grocery Store</td>\n",
       "    </tr>\n",
       "    <tr>\n",
       "      <th>3</th>\n",
       "      <td>FDQ58</td>\n",
       "      <td>7.315</td>\n",
       "      <td>Low Fat</td>\n",
       "      <td>0.015388</td>\n",
       "      <td>Snack Foods</td>\n",
       "      <td>155.0340</td>\n",
       "      <td>OUT017</td>\n",
       "      <td>2007</td>\n",
       "      <td>NaN</td>\n",
       "      <td>Tier 2</td>\n",
       "      <td>Supermarket Type1</td>\n",
       "    </tr>\n",
       "    <tr>\n",
       "      <th>4</th>\n",
       "      <td>FDY38</td>\n",
       "      <td>NaN</td>\n",
       "      <td>Regular</td>\n",
       "      <td>0.118599</td>\n",
       "      <td>Dairy</td>\n",
       "      <td>234.2300</td>\n",
       "      <td>OUT027</td>\n",
       "      <td>1985</td>\n",
       "      <td>Medium</td>\n",
       "      <td>Tier 3</td>\n",
       "      <td>Supermarket Type3</td>\n",
       "    </tr>\n",
       "  </tbody>\n",
       "</table>\n",
       "</div>"
      ],
      "text/plain": [
       "  Item_Identifier  Item_Weight Item_Fat_Content  Item_Visibility    Item_Type  \\\n",
       "0           FDW58       20.750          Low Fat         0.007565  Snack Foods   \n",
       "1           FDW14        8.300              reg         0.038428        Dairy   \n",
       "2           NCN55       14.600          Low Fat         0.099575       Others   \n",
       "3           FDQ58        7.315          Low Fat         0.015388  Snack Foods   \n",
       "4           FDY38          NaN          Regular         0.118599        Dairy   \n",
       "\n",
       "   Item_MRP Outlet_Identifier  Outlet_Establishment_Year Outlet_Size  \\\n",
       "0  107.8622            OUT049                       1999      Medium   \n",
       "1   87.3198            OUT017                       2007         NaN   \n",
       "2  241.7538            OUT010                       1998         NaN   \n",
       "3  155.0340            OUT017                       2007         NaN   \n",
       "4  234.2300            OUT027                       1985      Medium   \n",
       "\n",
       "  Outlet_Location_Type        Outlet_Type  \n",
       "0               Tier 1  Supermarket Type1  \n",
       "1               Tier 2  Supermarket Type1  \n",
       "2               Tier 3      Grocery Store  \n",
       "3               Tier 2  Supermarket Type1  \n",
       "4               Tier 3  Supermarket Type3  "
      ]
     },
     "execution_count": 4,
     "metadata": {},
     "output_type": "execute_result"
    }
   ],
   "source": [
    "# read in csv file as a DataFrame\n",
    "te_df = pd.read_csv(te_path)\n",
    "# explore the first 5 rows\n",
    "te_df.head()"
   ]
  },
  {
   "cell_type": "markdown",
   "metadata": {
    "papermill": {
     "duration": 0.041367,
     "end_time": "2020-11-18T12:53:44.818013",
     "exception": false,
     "start_time": "2020-11-18T12:53:44.776646",
     "status": "completed"
    },
    "tags": []
   },
   "source": [
    "Size of each data set:"
   ]
  },
  {
   "cell_type": "code",
   "execution_count": 5,
   "metadata": {
    "execution": {
     "iopub.execute_input": "2020-11-18T12:53:44.907120Z",
     "iopub.status.busy": "2020-11-18T12:53:44.906284Z",
     "iopub.status.idle": "2020-11-18T12:53:44.909217Z",
     "shell.execute_reply": "2020-11-18T12:53:44.909760Z"
    },
    "papermill": {
     "duration": 0.050116,
     "end_time": "2020-11-18T12:53:44.909893",
     "exception": false,
     "start_time": "2020-11-18T12:53:44.859777",
     "status": "completed"
    },
    "tags": []
   },
   "outputs": [
    {
     "name": "stdout",
     "output_type": "stream",
     "text": [
      "training set (row, col): (8523, 12)\n",
      "\n",
      "testing set (row, col): (5681, 11)\n"
     ]
    }
   ],
   "source": [
    "print(f\"training set (row, col): {tr_df.shape}\\n\\ntesting set (row, col): {te_df.shape}\")"
   ]
  },
  {
   "cell_type": "markdown",
   "metadata": {
    "papermill": {
     "duration": 0.042001,
     "end_time": "2020-11-18T12:53:44.994140",
     "exception": false,
     "start_time": "2020-11-18T12:53:44.952139",
     "status": "completed"
    },
    "tags": []
   },
   "source": [
    "### preprocessing of the training dataset"
   ]
  },
  {
   "cell_type": "code",
   "execution_count": 6,
   "metadata": {
    "execution": {
     "iopub.execute_input": "2020-11-18T12:53:45.086655Z",
     "iopub.status.busy": "2020-11-18T12:53:45.082622Z",
     "iopub.status.idle": "2020-11-18T12:53:45.097083Z",
     "shell.execute_reply": "2020-11-18T12:53:45.097873Z"
    },
    "papermill": {
     "duration": 0.061775,
     "end_time": "2020-11-18T12:53:45.098062",
     "exception": false,
     "start_time": "2020-11-18T12:53:45.036287",
     "status": "completed"
    },
    "tags": []
   },
   "outputs": [
    {
     "name": "stdout",
     "output_type": "stream",
     "text": [
      "<class 'pandas.core.frame.DataFrame'>\n",
      "RangeIndex: 8523 entries, 0 to 8522\n",
      "Data columns (total 12 columns):\n",
      " #   Column                     Non-Null Count  Dtype  \n",
      "---  ------                     --------------  -----  \n",
      " 0   Item_Identifier            8523 non-null   object \n",
      " 1   Item_Weight                7060 non-null   float64\n",
      " 2   Item_Fat_Content           8523 non-null   object \n",
      " 3   Item_Visibility            8523 non-null   float64\n",
      " 4   Item_Type                  8523 non-null   object \n",
      " 5   Item_MRP                   8523 non-null   float64\n",
      " 6   Outlet_Identifier          8523 non-null   object \n",
      " 7   Outlet_Establishment_Year  8523 non-null   int64  \n",
      " 8   Outlet_Size                6113 non-null   object \n",
      " 9   Outlet_Location_Type       8523 non-null   object \n",
      " 10  Outlet_Type                8523 non-null   object \n",
      " 11  Item_Outlet_Sales          8523 non-null   float64\n",
      "dtypes: float64(4), int64(1), object(7)\n",
      "memory usage: 799.2+ KB\n"
     ]
    }
   ],
   "source": [
    "#column information\n",
    "tr_df.info(verbose=True, null_counts=True)"
   ]
  },
  {
   "cell_type": "code",
   "execution_count": 7,
   "metadata": {
    "execution": {
     "iopub.execute_input": "2020-11-18T12:53:45.194628Z",
     "iopub.status.busy": "2020-11-18T12:53:45.193810Z",
     "iopub.status.idle": "2020-11-18T12:53:45.214726Z",
     "shell.execute_reply": "2020-11-18T12:53:45.214106Z"
    },
    "papermill": {
     "duration": 0.072136,
     "end_time": "2020-11-18T12:53:45.214832",
     "exception": false,
     "start_time": "2020-11-18T12:53:45.142696",
     "status": "completed"
    },
    "tags": []
   },
   "outputs": [
    {
     "data": {
      "text/html": [
       "<div>\n",
       "<style scoped>\n",
       "    .dataframe tbody tr th:only-of-type {\n",
       "        vertical-align: middle;\n",
       "    }\n",
       "\n",
       "    .dataframe tbody tr th {\n",
       "        vertical-align: top;\n",
       "    }\n",
       "\n",
       "    .dataframe thead th {\n",
       "        text-align: right;\n",
       "    }\n",
       "</style>\n",
       "<table border=\"1\" class=\"dataframe\">\n",
       "  <thead>\n",
       "    <tr style=\"text-align: right;\">\n",
       "      <th></th>\n",
       "      <th>Item_Weight</th>\n",
       "      <th>Item_Visibility</th>\n",
       "      <th>Item_MRP</th>\n",
       "      <th>Outlet_Establishment_Year</th>\n",
       "    </tr>\n",
       "  </thead>\n",
       "  <tbody>\n",
       "    <tr>\n",
       "      <th>count</th>\n",
       "      <td>4705.000000</td>\n",
       "      <td>5681.000000</td>\n",
       "      <td>5681.000000</td>\n",
       "      <td>5681.000000</td>\n",
       "    </tr>\n",
       "    <tr>\n",
       "      <th>mean</th>\n",
       "      <td>12.695633</td>\n",
       "      <td>0.065684</td>\n",
       "      <td>141.023273</td>\n",
       "      <td>1997.828903</td>\n",
       "    </tr>\n",
       "    <tr>\n",
       "      <th>std</th>\n",
       "      <td>4.664849</td>\n",
       "      <td>0.051252</td>\n",
       "      <td>61.809091</td>\n",
       "      <td>8.372256</td>\n",
       "    </tr>\n",
       "    <tr>\n",
       "      <th>min</th>\n",
       "      <td>4.555000</td>\n",
       "      <td>0.000000</td>\n",
       "      <td>31.990000</td>\n",
       "      <td>1985.000000</td>\n",
       "    </tr>\n",
       "    <tr>\n",
       "      <th>25%</th>\n",
       "      <td>8.645000</td>\n",
       "      <td>0.027047</td>\n",
       "      <td>94.412000</td>\n",
       "      <td>1987.000000</td>\n",
       "    </tr>\n",
       "    <tr>\n",
       "      <th>50%</th>\n",
       "      <td>12.500000</td>\n",
       "      <td>0.054154</td>\n",
       "      <td>141.415400</td>\n",
       "      <td>1999.000000</td>\n",
       "    </tr>\n",
       "    <tr>\n",
       "      <th>75%</th>\n",
       "      <td>16.700000</td>\n",
       "      <td>0.093463</td>\n",
       "      <td>186.026600</td>\n",
       "      <td>2004.000000</td>\n",
       "    </tr>\n",
       "    <tr>\n",
       "      <th>max</th>\n",
       "      <td>21.350000</td>\n",
       "      <td>0.323637</td>\n",
       "      <td>266.588400</td>\n",
       "      <td>2009.000000</td>\n",
       "    </tr>\n",
       "  </tbody>\n",
       "</table>\n",
       "</div>"
      ],
      "text/plain": [
       "       Item_Weight  Item_Visibility     Item_MRP  Outlet_Establishment_Year\n",
       "count  4705.000000      5681.000000  5681.000000                5681.000000\n",
       "mean     12.695633         0.065684   141.023273                1997.828903\n",
       "std       4.664849         0.051252    61.809091                   8.372256\n",
       "min       4.555000         0.000000    31.990000                1985.000000\n",
       "25%       8.645000         0.027047    94.412000                1987.000000\n",
       "50%      12.500000         0.054154   141.415400                1999.000000\n",
       "75%      16.700000         0.093463   186.026600                2004.000000\n",
       "max      21.350000         0.323637   266.588400                2009.000000"
      ]
     },
     "execution_count": 7,
     "metadata": {},
     "output_type": "execute_result"
    }
   ],
   "source": [
    "#summary statistics test\n",
    "te_df.describe()"
   ]
  },
  {
   "cell_type": "code",
   "execution_count": 8,
   "metadata": {
    "execution": {
     "iopub.execute_input": "2020-11-18T12:53:45.308437Z",
     "iopub.status.busy": "2020-11-18T12:53:45.307475Z",
     "iopub.status.idle": "2020-11-18T12:53:45.329704Z",
     "shell.execute_reply": "2020-11-18T12:53:45.329054Z"
    },
    "papermill": {
     "duration": 0.071697,
     "end_time": "2020-11-18T12:53:45.329814",
     "exception": false,
     "start_time": "2020-11-18T12:53:45.258117",
     "status": "completed"
    },
    "tags": []
   },
   "outputs": [
    {
     "data": {
      "text/html": [
       "<div>\n",
       "<style scoped>\n",
       "    .dataframe tbody tr th:only-of-type {\n",
       "        vertical-align: middle;\n",
       "    }\n",
       "\n",
       "    .dataframe tbody tr th {\n",
       "        vertical-align: top;\n",
       "    }\n",
       "\n",
       "    .dataframe thead th {\n",
       "        text-align: right;\n",
       "    }\n",
       "</style>\n",
       "<table border=\"1\" class=\"dataframe\">\n",
       "  <thead>\n",
       "    <tr style=\"text-align: right;\">\n",
       "      <th></th>\n",
       "      <th>Item_Weight</th>\n",
       "      <th>Item_Visibility</th>\n",
       "      <th>Item_MRP</th>\n",
       "      <th>Outlet_Establishment_Year</th>\n",
       "      <th>Item_Outlet_Sales</th>\n",
       "    </tr>\n",
       "  </thead>\n",
       "  <tbody>\n",
       "    <tr>\n",
       "      <th>count</th>\n",
       "      <td>7060.000000</td>\n",
       "      <td>8523.000000</td>\n",
       "      <td>8523.000000</td>\n",
       "      <td>8523.000000</td>\n",
       "      <td>8523.000000</td>\n",
       "    </tr>\n",
       "    <tr>\n",
       "      <th>mean</th>\n",
       "      <td>12.857645</td>\n",
       "      <td>0.066132</td>\n",
       "      <td>140.992782</td>\n",
       "      <td>1997.831867</td>\n",
       "      <td>2181.288914</td>\n",
       "    </tr>\n",
       "    <tr>\n",
       "      <th>std</th>\n",
       "      <td>4.643456</td>\n",
       "      <td>0.051598</td>\n",
       "      <td>62.275067</td>\n",
       "      <td>8.371760</td>\n",
       "      <td>1706.499616</td>\n",
       "    </tr>\n",
       "    <tr>\n",
       "      <th>min</th>\n",
       "      <td>4.555000</td>\n",
       "      <td>0.000000</td>\n",
       "      <td>31.290000</td>\n",
       "      <td>1985.000000</td>\n",
       "      <td>33.290000</td>\n",
       "    </tr>\n",
       "    <tr>\n",
       "      <th>25%</th>\n",
       "      <td>8.773750</td>\n",
       "      <td>0.026989</td>\n",
       "      <td>93.826500</td>\n",
       "      <td>1987.000000</td>\n",
       "      <td>834.247400</td>\n",
       "    </tr>\n",
       "    <tr>\n",
       "      <th>50%</th>\n",
       "      <td>12.600000</td>\n",
       "      <td>0.053931</td>\n",
       "      <td>143.012800</td>\n",
       "      <td>1999.000000</td>\n",
       "      <td>1794.331000</td>\n",
       "    </tr>\n",
       "    <tr>\n",
       "      <th>75%</th>\n",
       "      <td>16.850000</td>\n",
       "      <td>0.094585</td>\n",
       "      <td>185.643700</td>\n",
       "      <td>2004.000000</td>\n",
       "      <td>3101.296400</td>\n",
       "    </tr>\n",
       "    <tr>\n",
       "      <th>max</th>\n",
       "      <td>21.350000</td>\n",
       "      <td>0.328391</td>\n",
       "      <td>266.888400</td>\n",
       "      <td>2009.000000</td>\n",
       "      <td>13086.964800</td>\n",
       "    </tr>\n",
       "  </tbody>\n",
       "</table>\n",
       "</div>"
      ],
      "text/plain": [
       "       Item_Weight  Item_Visibility     Item_MRP  Outlet_Establishment_Year  \\\n",
       "count  7060.000000      8523.000000  8523.000000                8523.000000   \n",
       "mean     12.857645         0.066132   140.992782                1997.831867   \n",
       "std       4.643456         0.051598    62.275067                   8.371760   \n",
       "min       4.555000         0.000000    31.290000                1985.000000   \n",
       "25%       8.773750         0.026989    93.826500                1987.000000   \n",
       "50%      12.600000         0.053931   143.012800                1999.000000   \n",
       "75%      16.850000         0.094585   185.643700                2004.000000   \n",
       "max      21.350000         0.328391   266.888400                2009.000000   \n",
       "\n",
       "       Item_Outlet_Sales  \n",
       "count        8523.000000  \n",
       "mean         2181.288914  \n",
       "std          1706.499616  \n",
       "min            33.290000  \n",
       "25%           834.247400  \n",
       "50%          1794.331000  \n",
       "75%          3101.296400  \n",
       "max         13086.964800  "
      ]
     },
     "execution_count": 8,
     "metadata": {},
     "output_type": "execute_result"
    }
   ],
   "source": [
    "#summary statistics train\n",
    "tr_df.describe()"
   ]
  },
  {
   "cell_type": "markdown",
   "metadata": {
    "papermill": {
     "duration": 0.043636,
     "end_time": "2020-11-18T12:53:45.423096",
     "exception": false,
     "start_time": "2020-11-18T12:53:45.379460",
     "status": "completed"
    },
    "tags": []
   },
   "source": [
    "## Missing values 🚫\n",
    "\n",
    "There are many ways data can end up with missing values. For example:\n",
    "1. The product wasn't weighed.\n",
    "2. The data provider didn't include the outlet size of some products.\n",
    "\n",
    "Most machine learning libraries (including scikit-learn) give an error if you try to build a model using data with missing values. As you can see we have some missing data, let's have a look how many we have for each column:\n",
    "\n",
    "* by numbers\n",
    "* by %\n",
    "\n",
    "This analysis will also compare to the test and train datasets for evaluation."
   ]
  },
  {
   "cell_type": "code",
   "execution_count": 9,
   "metadata": {
    "execution": {
     "iopub.execute_input": "2020-11-18T12:53:45.521619Z",
     "iopub.status.busy": "2020-11-18T12:53:45.520913Z",
     "iopub.status.idle": "2020-11-18T12:53:45.555088Z",
     "shell.execute_reply": "2020-11-18T12:53:45.555596Z"
    },
    "papermill": {
     "duration": 0.088017,
     "end_time": "2020-11-18T12:53:45.555738",
     "exception": false,
     "start_time": "2020-11-18T12:53:45.467721",
     "status": "completed"
    },
    "tags": []
   },
   "outputs": [
    {
     "name": "stdout",
     "output_type": "stream",
     "text": [
      "Train:\n",
      "\n",
      "Outlet_Size                  2410\n",
      "Item_Weight                  1463\n",
      "Item_Identifier                 0\n",
      "Item_Fat_Content                0\n",
      "Item_Visibility                 0\n",
      "Item_Type                       0\n",
      "Item_MRP                        0\n",
      "Outlet_Identifier               0\n",
      "Outlet_Establishment_Year       0\n",
      "Outlet_Location_Type            0\n",
      "Outlet_Type                     0\n",
      "Item_Outlet_Sales               0\n",
      "dtype: int64 \n",
      "\n",
      " Item_Identifier               0.000000\n",
      "Item_Weight                  17.165317\n",
      "Item_Fat_Content              0.000000\n",
      "Item_Visibility               0.000000\n",
      "Item_Type                     0.000000\n",
      "Item_MRP                      0.000000\n",
      "Outlet_Identifier             0.000000\n",
      "Outlet_Establishment_Year     0.000000\n",
      "Outlet_Size                  28.276428\n",
      "Outlet_Location_Type          0.000000\n",
      "Outlet_Type                   0.000000\n",
      "Item_Outlet_Sales             0.000000\n",
      "dtype: float64 \n",
      "\n",
      "\n",
      "Test:\n",
      "\n",
      "Outlet_Size                  1606\n",
      "Item_Weight                   976\n",
      "Item_Identifier                 0\n",
      "Item_Fat_Content                0\n",
      "Item_Visibility                 0\n",
      "Item_Type                       0\n",
      "Item_MRP                        0\n",
      "Outlet_Identifier               0\n",
      "Outlet_Establishment_Year       0\n",
      "Outlet_Location_Type            0\n",
      "Outlet_Type                     0\n",
      "dtype: int64 \n",
      "\n",
      " Item_Identifier               0.000000\n",
      "Item_Weight                  17.180074\n",
      "Item_Fat_Content              0.000000\n",
      "Item_Visibility               0.000000\n",
      "Item_Type                     0.000000\n",
      "Item_MRP                      0.000000\n",
      "Outlet_Identifier             0.000000\n",
      "Outlet_Establishment_Year     0.000000\n",
      "Outlet_Size                  28.269671\n",
      "Outlet_Location_Type          0.000000\n",
      "Outlet_Type                   0.000000\n",
      "dtype: float64 \n",
      "\n",
      "\n"
     ]
    }
   ],
   "source": [
    "#missing values in decsending order\n",
    "print(\"Train:\\n\")\n",
    "print(tr_df.isnull().sum().sort_values(ascending=False),\"\\n\\n\",tr_df.isnull().sum()/tr_df.shape[0] *100,\"\\n\\n\")\n",
    "print(\"Test:\\n\")\n",
    "print(te_df.isnull().sum().sort_values(ascending=False),\"\\n\\n\",te_df.isnull().sum()/te_df.shape[0] *100,\"\\n\\n\")"
   ]
  },
  {
   "cell_type": "markdown",
   "metadata": {
    "papermill": {
     "duration": 0.043865,
     "end_time": "2020-11-18T12:53:45.643789",
     "exception": false,
     "start_time": "2020-11-18T12:53:45.599924",
     "status": "completed"
    },
    "tags": []
   },
   "source": [
    "We can see the % of each missing Values per columns is almost identical!\n",
    "\n",
    "| column           | size |\n",
    "|------------------|------|\n",
    "| `Outlet_Size`    | 28%  |\n",
    "| `Item_Weight`    | 17%  |"
   ]
  },
  {
   "cell_type": "markdown",
   "metadata": {
    "papermill": {
     "duration": 0.043864,
     "end_time": "2020-11-18T12:53:45.731694",
     "exception": false,
     "start_time": "2020-11-18T12:53:45.687830",
     "status": "completed"
    },
    "tags": []
   },
   "source": [
    "### Let's check the value counts for `Outlet_Size` and `Item_Weight`:"
   ]
  },
  {
   "cell_type": "code",
   "execution_count": 10,
   "metadata": {
    "execution": {
     "iopub.execute_input": "2020-11-18T12:53:45.830420Z",
     "iopub.status.busy": "2020-11-18T12:53:45.829368Z",
     "iopub.status.idle": "2020-11-18T12:53:45.837130Z",
     "shell.execute_reply": "2020-11-18T12:53:45.836514Z"
    },
    "papermill": {
     "duration": 0.059754,
     "end_time": "2020-11-18T12:53:45.837262",
     "exception": false,
     "start_time": "2020-11-18T12:53:45.777508",
     "status": "completed"
    },
    "tags": []
   },
   "outputs": [
    {
     "name": "stdout",
     "output_type": "stream",
     "text": [
      "Outlet_Size:\n",
      " Medium    2793\n",
      "Small     2388\n",
      "High       932\n",
      "Name: Outlet_Size, dtype: int64 \n",
      "\n",
      "\n",
      "Item_Weight:\n",
      " 12.150    86\n",
      "17.600    82\n",
      "13.650    77\n",
      "11.800    76\n",
      "15.100    68\n",
      "          ..\n",
      "7.275      2\n",
      "7.685      1\n",
      "9.420      1\n",
      "6.520      1\n",
      "5.400      1\n",
      "Name: Item_Weight, Length: 415, dtype: int64 \n",
      "\n",
      "\n"
     ]
    }
   ],
   "source": [
    "print(\"Outlet_Size:\\n\", tr_df.Outlet_Size.value_counts(), \"\\n\\n\")\n",
    "print(\"Item_Weight:\\n\", tr_df.Item_Weight.value_counts(), \"\\n\\n\")"
   ]
  },
  {
   "cell_type": "markdown",
   "metadata": {
    "papermill": {
     "duration": 0.044221,
     "end_time": "2020-11-18T12:53:45.926097",
     "exception": false,
     "start_time": "2020-11-18T12:53:45.881876",
     "status": "completed"
    },
    "tags": []
   },
   "source": [
    "`Outlet_Size` is a categorical column, therefore we will impute missing values with `Medium` the **mode value**"
   ]
  },
  {
   "cell_type": "code",
   "execution_count": 11,
   "metadata": {
    "execution": {
     "iopub.execute_input": "2020-11-18T12:53:46.022711Z",
     "iopub.status.busy": "2020-11-18T12:53:46.021943Z",
     "iopub.status.idle": "2020-11-18T12:53:46.025839Z",
     "shell.execute_reply": "2020-11-18T12:53:46.025352Z"
    },
    "papermill": {
     "duration": 0.055028,
     "end_time": "2020-11-18T12:53:46.025950",
     "exception": false,
     "start_time": "2020-11-18T12:53:45.970922",
     "status": "completed"
    },
    "tags": []
   },
   "outputs": [
    {
     "name": "stdout",
     "output_type": "stream",
     "text": [
      "test mode, train mode\n",
      " ['Medium', 'Medium']\n"
     ]
    }
   ],
   "source": [
    "print(\"test mode, train mode\\n\",[tr_df['Outlet_Size'].mode().values[0], te_df['Outlet_Size'].mode().values[0]])"
   ]
  },
  {
   "cell_type": "code",
   "execution_count": 12,
   "metadata": {
    "execution": {
     "iopub.execute_input": "2020-11-18T12:53:46.129751Z",
     "iopub.status.busy": "2020-11-18T12:53:46.125769Z",
     "iopub.status.idle": "2020-11-18T12:53:46.134304Z",
     "shell.execute_reply": "2020-11-18T12:53:46.133695Z"
    },
    "papermill": {
     "duration": 0.063084,
     "end_time": "2020-11-18T12:53:46.134418",
     "exception": false,
     "start_time": "2020-11-18T12:53:46.071334",
     "status": "completed"
    },
    "tags": []
   },
   "outputs": [
    {
     "data": {
      "text/plain": [
       "(0, 0)"
      ]
     },
     "execution_count": 12,
     "metadata": {},
     "output_type": "execute_result"
    }
   ],
   "source": [
    "#train\n",
    "tr_df['Outlet_Size'] = tr_df['Outlet_Size'].fillna(\n",
    "tr_df['Outlet_Size'].dropna().mode().values[0])\n",
    "\n",
    "#test\n",
    "te_df['Outlet_Size'] = te_df['Outlet_Size'].fillna(\n",
    "te_df['Outlet_Size'].dropna().mode().values[0])\n",
    "\n",
    "#checking if we filled missing values\n",
    "tr_df['Outlet_Size'].isnull().sum(),te_df['Outlet_Size'].isnull().sum()"
   ]
  },
  {
   "cell_type": "markdown",
   "metadata": {
    "papermill": {
     "duration": 0.045668,
     "end_time": "2020-11-18T12:53:46.225997",
     "exception": false,
     "start_time": "2020-11-18T12:53:46.180329",
     "status": "completed"
    },
    "tags": []
   },
   "source": [
    "`item_weight`  is a numerical column therefore we need to visualize it's distribution for a clearer display\n",
    "i will use the boxplot in seaborn:\n",
    "\n",
    "  <tr><td>\n",
    "    <img src=\"https://miro.medium.com/max/1050/1*2c21SkzJMf3frPXPAR_gZA.png\"\n",
    "         width=\"400\" height=\"300\">\n",
    "      <tr><td align=\"LEFT\">"
   ]
  },
  {
   "cell_type": "code",
   "execution_count": 13,
   "metadata": {
    "execution": {
     "iopub.execute_input": "2020-11-18T12:53:46.322813Z",
     "iopub.status.busy": "2020-11-18T12:53:46.322177Z",
     "iopub.status.idle": "2020-11-18T12:53:46.480639Z",
     "shell.execute_reply": "2020-11-18T12:53:46.481201Z"
    },
    "papermill": {
     "duration": 0.209705,
     "end_time": "2020-11-18T12:53:46.481368",
     "exception": false,
     "start_time": "2020-11-18T12:53:46.271663",
     "status": "completed"
    },
    "tags": []
   },
   "outputs": [
    {
     "data": {
      "text/plain": [
       "Text(0.5, 1.0, 'Item_Weight Boxplot')"
      ]
     },
     "execution_count": 13,
     "metadata": {},
     "output_type": "execute_result"
    },
    {
     "data": {
      "image/png": "[encoded data removed]",
      "text/plain": [
       "<Figure size 640x480 with 1 Axes>"
      ]
     },
     "metadata": {},
     "output_type": "display_data"
    }
   ],
   "source": [
    "# I personally prefer a vertical view and a cyan color\n",
    "sns.boxplot(data=tr_df['Item_Weight'],orient=\"v\", color = 'c')\n",
    "plt.title(\"Item_Weight Boxplot\")"
   ]
  },
  {
   "cell_type": "markdown",
   "metadata": {
    "papermill": {
     "duration": 0.046316,
     "end_time": "2020-11-18T12:53:46.574300",
     "exception": false,
     "start_time": "2020-11-18T12:53:46.527984",
     "status": "completed"
    },
    "tags": []
   },
   "source": [
    "There are no outliers so we will fill the missing data with the mean value for maximum efficiency:"
   ]
  },
  {
   "cell_type": "code",
   "execution_count": 14,
   "metadata": {
    "execution": {
     "iopub.execute_input": "2020-11-18T12:53:46.674359Z",
     "iopub.status.busy": "2020-11-18T12:53:46.673440Z",
     "iopub.status.idle": "2020-11-18T12:53:46.680748Z",
     "shell.execute_reply": "2020-11-18T12:53:46.681165Z"
    },
    "papermill": {
     "duration": 0.060439,
     "end_time": "2020-11-18T12:53:46.681327",
     "exception": false,
     "start_time": "2020-11-18T12:53:46.620888",
     "status": "completed"
    },
    "tags": []
   },
   "outputs": [
    {
     "data": {
      "text/plain": [
       "(0, 0)"
      ]
     },
     "execution_count": 14,
     "metadata": {},
     "output_type": "execute_result"
    }
   ],
   "source": [
    "#train\n",
    "tr_df['Item_Weight'] = tr_df['Item_Weight'].fillna(\n",
    "tr_df['Item_Weight'].dropna().mean())\n",
    "\n",
    "#test\n",
    "te_df['Item_Weight'] = te_df['Item_Weight'].fillna(\n",
    "te_df['Item_Weight'].dropna().mean())\n",
    "\n",
    "#checking if we filled missing values\n",
    "tr_df['Item_Weight'].isnull().sum(),te_df['Item_Weight'].isnull().sum()"
   ]
  },
  {
   "cell_type": "markdown",
   "metadata": {
    "papermill": {
     "duration": 0.047057,
     "end_time": "2020-11-18T12:53:46.775106",
     "exception": false,
     "start_time": "2020-11-18T12:53:46.728049",
     "status": "completed"
    },
    "tags": []
   },
   "source": [
    "### Now we can see using the `.info()` method we can see we have filled succesfully all mising the missing data for both sets:"
   ]
  },
  {
   "cell_type": "code",
   "execution_count": 15,
   "metadata": {
    "execution": {
     "iopub.execute_input": "2020-11-18T12:53:46.878108Z",
     "iopub.status.busy": "2020-11-18T12:53:46.877464Z",
     "iopub.status.idle": "2020-11-18T12:53:46.895257Z",
     "shell.execute_reply": "2020-11-18T12:53:46.895826Z"
    },
    "papermill": {
     "duration": 0.074018,
     "end_time": "2020-11-18T12:53:46.895968",
     "exception": false,
     "start_time": "2020-11-18T12:53:46.821950",
     "status": "completed"
    },
    "tags": []
   },
   "outputs": [
    {
     "name": "stdout",
     "output_type": "stream",
     "text": [
      "train:\n",
      "\n",
      "<class 'pandas.core.frame.DataFrame'>\n",
      "RangeIndex: 8523 entries, 0 to 8522\n",
      "Data columns (total 12 columns):\n",
      " #   Column                     Non-Null Count  Dtype  \n",
      "---  ------                     --------------  -----  \n",
      " 0   Item_Identifier            8523 non-null   object \n",
      " 1   Item_Weight                8523 non-null   float64\n",
      " 2   Item_Fat_Content           8523 non-null   object \n",
      " 3   Item_Visibility            8523 non-null   float64\n",
      " 4   Item_Type                  8523 non-null   object \n",
      " 5   Item_MRP                   8523 non-null   float64\n",
      " 6   Outlet_Identifier          8523 non-null   object \n",
      " 7   Outlet_Establishment_Year  8523 non-null   int64  \n",
      " 8   Outlet_Size                8523 non-null   object \n",
      " 9   Outlet_Location_Type       8523 non-null   object \n",
      " 10  Outlet_Type                8523 non-null   object \n",
      " 11  Item_Outlet_Sales          8523 non-null   float64\n",
      "dtypes: float64(4), int64(1), object(7)\n",
      "memory usage: 799.2+ KB\n",
      "None\n",
      "\n",
      "\n",
      "test:\n",
      "\n",
      "<class 'pandas.core.frame.DataFrame'>\n",
      "RangeIndex: 5681 entries, 0 to 5680\n",
      "Data columns (total 11 columns):\n",
      " #   Column                     Non-Null Count  Dtype  \n",
      "---  ------                     --------------  -----  \n",
      " 0   Item_Identifier            5681 non-null   object \n",
      " 1   Item_Weight                5681 non-null   float64\n",
      " 2   Item_Fat_Content           5681 non-null   object \n",
      " 3   Item_Visibility            5681 non-null   float64\n",
      " 4   Item_Type                  5681 non-null   object \n",
      " 5   Item_MRP                   5681 non-null   float64\n",
      " 6   Outlet_Identifier          5681 non-null   object \n",
      " 7   Outlet_Establishment_Year  5681 non-null   int64  \n",
      " 8   Outlet_Size                5681 non-null   object \n",
      " 9   Outlet_Location_Type       5681 non-null   object \n",
      " 10  Outlet_Type                5681 non-null   object \n",
      "dtypes: float64(3), int64(1), object(7)\n",
      "memory usage: 488.3+ KB\n",
      "None\n"
     ]
    }
   ],
   "source": [
    "print(\"train:\\n\")\n",
    "print(tr_df.info())\n",
    "print(\"\\n\\ntest:\\n\")\n",
    "print(te_df.info())"
   ]
  },
  {
   "cell_type": "markdown",
   "metadata": {
    "papermill": {
     "duration": 0.047257,
     "end_time": "2020-11-18T12:53:47.036616",
     "exception": false,
     "start_time": "2020-11-18T12:53:46.989359",
     "status": "completed"
    },
    "tags": []
   },
   "source": [
    "## Data Exploration\n",
    "\n",
    "![](https://media4.giphy.com/media/4FQMuOKR6zQRO/giphy.webp?cid=ecf05e47fnhzie81p8aajp6hyz56d8yrtbf2vgbvhuw9xklt&rid=giphy.webp)\n",
    "\n",
    "Firstly we need to split our data to categorical and numerical data,\n",
    "\n",
    "using the `.select_dtypes('dtype').columns.to_list()` combination."
   ]
  },
  {
   "cell_type": "code",
   "execution_count": 16,
   "metadata": {
    "execution": {
     "iopub.execute_input": "2020-11-18T12:53:47.144984Z",
     "iopub.status.busy": "2020-11-18T12:53:47.144310Z",
     "iopub.status.idle": "2020-11-18T12:53:47.161874Z",
     "shell.execute_reply": "2020-11-18T12:53:47.161323Z"
    },
    "papermill": {
     "duration": 0.07791,
     "end_time": "2020-11-18T12:53:47.161983",
     "exception": false,
     "start_time": "2020-11-18T12:53:47.084073",
     "status": "completed"
    },
    "tags": []
   },
   "outputs": [
    {
     "data": {
      "text/plain": [
       "[Low Fat    5089\n",
       " Regular    2889\n",
       " LF          316\n",
       " reg         117\n",
       " low fat     112\n",
       " Name: Item_Fat_Content, dtype: int64,\n",
       " Fruits and Vegetables    1232\n",
       " Snack Foods              1200\n",
       " Household                 910\n",
       " Frozen Foods              856\n",
       " Dairy                     682\n",
       " Canned                    649\n",
       " Baking Goods              648\n",
       " Health and Hygiene        520\n",
       " Soft Drinks               445\n",
       " Meat                      425\n",
       " Breads                    251\n",
       " Hard Drinks               214\n",
       " Others                    169\n",
       " Starchy Foods             148\n",
       " Breakfast                 110\n",
       " Seafood                    64\n",
       " Name: Item_Type, dtype: int64,\n",
       " OUT027    935\n",
       " OUT013    932\n",
       " OUT049    930\n",
       " OUT046    930\n",
       " OUT035    930\n",
       " OUT045    929\n",
       " OUT018    928\n",
       " OUT017    926\n",
       " OUT010    555\n",
       " OUT019    528\n",
       " Name: Outlet_Identifier, dtype: int64,\n",
       " Medium    5203\n",
       " Small     2388\n",
       " High       932\n",
       " Name: Outlet_Size, dtype: int64,\n",
       " Tier 3    3350\n",
       " Tier 2    2785\n",
       " Tier 1    2388\n",
       " Name: Outlet_Location_Type, dtype: int64,\n",
       " Supermarket Type1    5577\n",
       " Grocery Store        1083\n",
       " Supermarket Type3     935\n",
       " Supermarket Type2     928\n",
       " Name: Outlet_Type, dtype: int64]"
      ]
     },
     "execution_count": 16,
     "metadata": {},
     "output_type": "execute_result"
    }
   ],
   "source": [
    "#list of all the numeric columns\n",
    "num = tr_df.select_dtypes('number').columns.to_list()\n",
    "#list of all the categoric columns\n",
    "cat = tr_df.select_dtypes('object').columns.to_list()\n",
    "\n",
    "#numeric df\n",
    "BM_num =  tr_df[num]\n",
    "#categoric df\n",
    "BM_cat = tr_df[cat]\n",
    "\n",
    "#print(num)\n",
    "#print(cat)\n",
    "\n",
    "[tr_df[category].value_counts() for category in cat[1:]]"
   ]
  },
  {
   "cell_type": "markdown",
   "metadata": {
    "papermill": {
     "duration": 0.047314,
     "end_time": "2020-11-18T12:53:47.257171",
     "exception": false,
     "start_time": "2020-11-18T12:53:47.209857",
     "status": "completed"
    },
    "tags": []
   },
   "source": [
    "We can See we have Repeating values with different names in the `Item_Fat_Content` column,\n",
    "we will correct them using the using the `.replace()` method "
   ]
  },
  {
   "cell_type": "code",
   "execution_count": 17,
   "metadata": {
    "execution": {
     "iopub.execute_input": "2020-11-18T12:53:47.364438Z",
     "iopub.status.busy": "2020-11-18T12:53:47.363531Z",
     "iopub.status.idle": "2020-11-18T12:53:47.379184Z",
     "shell.execute_reply": "2020-11-18T12:53:47.380107Z"
    },
    "papermill": {
     "duration": 0.075515,
     "end_time": "2020-11-18T12:53:47.380365",
     "exception": false,
     "start_time": "2020-11-18T12:53:47.304850",
     "status": "completed"
    },
    "tags": []
   },
   "outputs": [
    {
     "data": {
      "text/plain": [
       "Low Fat    5517\n",
       "Regular    3006\n",
       "Name: Item_Fat_Content, dtype: int64"
      ]
     },
     "execution_count": 17,
     "metadata": {},
     "output_type": "execute_result"
    }
   ],
   "source": [
    "#train\n",
    "tr_df['Item_Fat_Content'].replace(['LF', 'low fat', 'reg'], \n",
    "                                  ['Low Fat','Low Fat','Regular'],inplace = True)\n",
    "#test\n",
    "te_df['Item_Fat_Content'].replace(['LF', 'low fat', 'reg'], \n",
    "                                  ['Low Fat','Low Fat','Regular'],inplace = True)\n",
    "\n",
    "#check result\n",
    "tr_df.Item_Fat_Content.value_counts()"
   ]
  },
  {
   "cell_type": "markdown",
   "metadata": {
    "papermill": {
     "duration": 0.070404,
     "end_time": "2020-11-18T12:53:47.523627",
     "exception": false,
     "start_time": "2020-11-18T12:53:47.453223",
     "status": "completed"
    },
    "tags": []
   },
   "source": [
    "Let's take a look again at our data:"
   ]
  },
  {
   "cell_type": "code",
   "execution_count": 18,
   "metadata": {
    "execution": {
     "iopub.execute_input": "2020-11-18T12:53:47.665351Z",
     "iopub.status.busy": "2020-11-18T12:53:47.657684Z",
     "iopub.status.idle": "2020-11-18T12:53:47.669973Z",
     "shell.execute_reply": "2020-11-18T12:53:47.670562Z"
    },
    "papermill": {
     "duration": 0.081037,
     "end_time": "2020-11-18T12:53:47.670709",
     "exception": false,
     "start_time": "2020-11-18T12:53:47.589672",
     "status": "completed"
    },
    "tags": []
   },
   "outputs": [
    {
     "data": {
      "text/html": [
       "<div>\n",
       "<style scoped>\n",
       "    .dataframe tbody tr th:only-of-type {\n",
       "        vertical-align: middle;\n",
       "    }\n",
       "\n",
       "    .dataframe tbody tr th {\n",
       "        vertical-align: top;\n",
       "    }\n",
       "\n",
       "    .dataframe thead th {\n",
       "        text-align: right;\n",
       "    }\n",
       "</style>\n",
       "<table border=\"1\" class=\"dataframe\">\n",
       "  <thead>\n",
       "    <tr style=\"text-align: right;\">\n",
       "      <th></th>\n",
       "      <th>Item_Identifier</th>\n",
       "      <th>Item_Weight</th>\n",
       "      <th>Item_Fat_Content</th>\n",
       "      <th>Item_Visibility</th>\n",
       "      <th>Item_Type</th>\n",
       "      <th>Item_MRP</th>\n",
       "      <th>Outlet_Identifier</th>\n",
       "      <th>Outlet_Establishment_Year</th>\n",
       "      <th>Outlet_Size</th>\n",
       "      <th>Outlet_Location_Type</th>\n",
       "      <th>Outlet_Type</th>\n",
       "      <th>Item_Outlet_Sales</th>\n",
       "    </tr>\n",
       "  </thead>\n",
       "  <tbody>\n",
       "    <tr>\n",
       "      <th>0</th>\n",
       "      <td>FDA15</td>\n",
       "      <td>9.30</td>\n",
       "      <td>Low Fat</td>\n",
       "      <td>0.016047</td>\n",
       "      <td>Dairy</td>\n",
       "      <td>249.8092</td>\n",
       "      <td>OUT049</td>\n",
       "      <td>1999</td>\n",
       "      <td>Medium</td>\n",
       "      <td>Tier 1</td>\n",
       "      <td>Supermarket Type1</td>\n",
       "      <td>3735.1380</td>\n",
       "    </tr>\n",
       "    <tr>\n",
       "      <th>1</th>\n",
       "      <td>DRC01</td>\n",
       "      <td>5.92</td>\n",
       "      <td>Regular</td>\n",
       "      <td>0.019278</td>\n",
       "      <td>Soft Drinks</td>\n",
       "      <td>48.2692</td>\n",
       "      <td>OUT018</td>\n",
       "      <td>2009</td>\n",
       "      <td>Medium</td>\n",
       "      <td>Tier 3</td>\n",
       "      <td>Supermarket Type2</td>\n",
       "      <td>443.4228</td>\n",
       "    </tr>\n",
       "    <tr>\n",
       "      <th>2</th>\n",
       "      <td>FDN15</td>\n",
       "      <td>17.50</td>\n",
       "      <td>Low Fat</td>\n",
       "      <td>0.016760</td>\n",
       "      <td>Meat</td>\n",
       "      <td>141.6180</td>\n",
       "      <td>OUT049</td>\n",
       "      <td>1999</td>\n",
       "      <td>Medium</td>\n",
       "      <td>Tier 1</td>\n",
       "      <td>Supermarket Type1</td>\n",
       "      <td>2097.2700</td>\n",
       "    </tr>\n",
       "    <tr>\n",
       "      <th>3</th>\n",
       "      <td>FDX07</td>\n",
       "      <td>19.20</td>\n",
       "      <td>Regular</td>\n",
       "      <td>0.000000</td>\n",
       "      <td>Fruits and Vegetables</td>\n",
       "      <td>182.0950</td>\n",
       "      <td>OUT010</td>\n",
       "      <td>1998</td>\n",
       "      <td>Medium</td>\n",
       "      <td>Tier 3</td>\n",
       "      <td>Grocery Store</td>\n",
       "      <td>732.3800</td>\n",
       "    </tr>\n",
       "    <tr>\n",
       "      <th>4</th>\n",
       "      <td>NCD19</td>\n",
       "      <td>8.93</td>\n",
       "      <td>Low Fat</td>\n",
       "      <td>0.000000</td>\n",
       "      <td>Household</td>\n",
       "      <td>53.8614</td>\n",
       "      <td>OUT013</td>\n",
       "      <td>1987</td>\n",
       "      <td>High</td>\n",
       "      <td>Tier 3</td>\n",
       "      <td>Supermarket Type1</td>\n",
       "      <td>994.7052</td>\n",
       "    </tr>\n",
       "  </tbody>\n",
       "</table>\n",
       "</div>"
      ],
      "text/plain": [
       "  Item_Identifier  Item_Weight Item_Fat_Content  Item_Visibility  \\\n",
       "0           FDA15         9.30          Low Fat         0.016047   \n",
       "1           DRC01         5.92          Regular         0.019278   \n",
       "2           FDN15        17.50          Low Fat         0.016760   \n",
       "3           FDX07        19.20          Regular         0.000000   \n",
       "4           NCD19         8.93          Low Fat         0.000000   \n",
       "\n",
       "               Item_Type  Item_MRP Outlet_Identifier  \\\n",
       "0                  Dairy  249.8092            OUT049   \n",
       "1            Soft Drinks   48.2692            OUT018   \n",
       "2                   Meat  141.6180            OUT049   \n",
       "3  Fruits and Vegetables  182.0950            OUT010   \n",
       "4              Household   53.8614            OUT013   \n",
       "\n",
       "   Outlet_Establishment_Year Outlet_Size Outlet_Location_Type  \\\n",
       "0                       1999      Medium               Tier 1   \n",
       "1                       2009      Medium               Tier 3   \n",
       "2                       1999      Medium               Tier 1   \n",
       "3                       1998      Medium               Tier 3   \n",
       "4                       1987        High               Tier 3   \n",
       "\n",
       "         Outlet_Type  Item_Outlet_Sales  \n",
       "0  Supermarket Type1          3735.1380  \n",
       "1  Supermarket Type2           443.4228  \n",
       "2  Supermarket Type1          2097.2700  \n",
       "3      Grocery Store           732.3800  \n",
       "4  Supermarket Type1           994.7052  "
      ]
     },
     "execution_count": 18,
     "metadata": {},
     "output_type": "execute_result"
    }
   ],
   "source": [
    "tr_df.head()"
   ]
  },
  {
   "cell_type": "markdown",
   "metadata": {
    "papermill": {
     "duration": 0.065417,
     "end_time": "2020-11-18T12:53:47.793064",
     "exception": false,
     "start_time": "2020-11-18T12:53:47.727647",
     "status": "completed"
    },
    "tags": []
   },
   "source": [
    "`Outlet_Establishment_Year` is quite useless as it is, making a new column with the age the new name will be `Outlet_Age`"
   ]
  },
  {
   "cell_type": "code",
   "execution_count": 19,
   "metadata": {
    "execution": {
     "iopub.execute_input": "2020-11-18T12:53:47.914492Z",
     "iopub.status.busy": "2020-11-18T12:53:47.913803Z",
     "iopub.status.idle": "2020-11-18T12:53:47.917333Z",
     "shell.execute_reply": "2020-11-18T12:53:47.916801Z"
    },
    "papermill": {
     "duration": 0.07152,
     "end_time": "2020-11-18T12:53:47.917445",
     "exception": false,
     "start_time": "2020-11-18T12:53:47.845925",
     "status": "completed"
    },
    "tags": []
   },
   "outputs": [],
   "source": [
    "#creating our new column for both datasets\n",
    "tr_df['Outlet_Age'], te_df['Outlet_Age']= tr_df['Outlet_Establishment_Year'].apply(lambda year: 2020 - year), te_df['Outlet_Establishment_Year'].apply(lambda year: 2020 - year)\n",
    "\n",
    "##uncomment to check result\n",
    "#tr_df['Outlet_Age'].head\n",
    "#te_df['Outlet_Age'].head"
   ]
  },
  {
   "cell_type": "markdown",
   "metadata": {
    "papermill": {
     "duration": 0.049537,
     "end_time": "2020-11-18T12:53:48.016261",
     "exception": false,
     "start_time": "2020-11-18T12:53:47.966724",
     "status": "completed"
    },
    "tags": []
   },
   "source": [
    "## Data Visualization 📊\n",
    "\n",
    "### Univariate Plots\n",
    "For starters we will create countplots for the categorical columns:"
   ]
  },
  {
   "cell_type": "code",
   "execution_count": 20,
   "metadata": {
    "execution": {
     "iopub.execute_input": "2020-11-18T12:53:48.126061Z",
     "iopub.status.busy": "2020-11-18T12:53:48.125380Z",
     "iopub.status.idle": "2020-11-18T12:53:48.257551Z",
     "shell.execute_reply": "2020-11-18T12:53:48.257054Z"
    },
    "papermill": {
     "duration": 0.191724,
     "end_time": "2020-11-18T12:53:48.257672",
     "exception": false,
     "start_time": "2020-11-18T12:53:48.065948",
     "status": "completed"
    },
    "tags": []
   },
   "outputs": [
    {
     "data": {
      "image/png": "[encoded data removed]",
      "text/plain": [
       "<Figure size 600x400 with 1 Axes>"
      ]
     },
     "metadata": {},
     "output_type": "display_data"
    }
   ],
   "source": [
    "#categorical columns:\n",
    "['Item_Identifier', 'Item_Fat_Content', 'Item_Type', 'Outlet_Identifier', \n",
    " 'Outlet_Size', 'Outlet_Location_Type', 'Outlet_Type']\n",
    " \n",
    "plt.figure(figsize=(6,4))\n",
    "sns.countplot(x='Item_Fat_Content' , data=tr_df ,palette='mako')\n",
    "plt.xlabel('Item_Fat_Content', fontsize=14)\n",
    "plt.show()"
   ]
  },
  {
   "cell_type": "code",
   "execution_count": 21,
   "metadata": {
    "execution": {
     "iopub.execute_input": "2020-11-18T12:53:48.365994Z",
     "iopub.status.busy": "2020-11-18T12:53:48.365366Z",
     "iopub.status.idle": "2020-11-18T12:53:48.741820Z",
     "shell.execute_reply": "2020-11-18T12:53:48.742417Z"
    },
    "papermill": {
     "duration": 0.434573,
     "end_time": "2020-11-18T12:53:48.742574",
     "exception": false,
     "start_time": "2020-11-18T12:53:48.308001",
     "status": "completed"
    },
    "tags": []
   },
   "outputs": [
    {
     "data": {
      "image/png": "[encoded data removed]",
      "text/plain": [
       "<Figure size 2700x1000 with 1 Axes>"
      ]
     },
     "metadata": {},
     "output_type": "display_data"
    }
   ],
   "source": [
    "plt.figure(figsize=(27,10))\n",
    "sns.countplot(x='Item_Type' , data=tr_df ,palette='summer')\n",
    "plt.xlabel('Item_Type', fontsize=14)\n",
    "plt.show()"
   ]
  },
  {
   "cell_type": "code",
   "execution_count": 22,
   "metadata": {
    "execution": {
     "iopub.execute_input": "2020-11-18T12:53:48.853338Z",
     "iopub.status.busy": "2020-11-18T12:53:48.852351Z",
     "iopub.status.idle": "2020-11-18T12:53:49.040446Z",
     "shell.execute_reply": "2020-11-18T12:53:49.039924Z"
    },
    "papermill": {
     "duration": 0.245555,
     "end_time": "2020-11-18T12:53:49.040578",
     "exception": false,
     "start_time": "2020-11-18T12:53:48.795023",
     "status": "completed"
    },
    "tags": []
   },
   "outputs": [
    {
     "data": {
      "image/png": "[encoded data removed]",
      "text/plain": [
       "<Figure size 1500x400 with 1 Axes>"
      ]
     },
     "metadata": {},
     "output_type": "display_data"
    }
   ],
   "source": [
    "plt.figure(figsize=(15,4))\n",
    "sns.countplot(x='Outlet_Identifier' , data=tr_df ,palette='winter')\n",
    "plt.xlabel('Outlet_Identifier', fontsize=14)\n",
    "plt.show()"
   ]
  },
  {
   "cell_type": "code",
   "execution_count": 23,
   "metadata": {
    "execution": {
     "iopub.execute_input": "2020-11-18T12:53:49.161712Z",
     "iopub.status.busy": "2020-11-18T12:53:49.161042Z",
     "iopub.status.idle": "2020-11-18T12:53:49.291182Z",
     "shell.execute_reply": "2020-11-18T12:53:49.291706Z"
    },
    "papermill": {
     "duration": 0.18967,
     "end_time": "2020-11-18T12:53:49.291863",
     "exception": false,
     "start_time": "2020-11-18T12:53:49.102193",
     "status": "completed"
    },
    "tags": []
   },
   "outputs": [
    {
     "data": {
      "image/png": "[encoded data removed]",
      "text/plain": [
       "<Figure size 1000x400 with 1 Axes>"
      ]
     },
     "metadata": {},
     "output_type": "display_data"
    }
   ],
   "source": [
    "plt.figure(figsize=(10,4))\n",
    "sns.countplot(x='Outlet_Size' , data=tr_df ,palette='autumn')\n",
    "plt.xlabel('Outlet_Size', fontsize=14)\n",
    "plt.show()"
   ]
  },
  {
   "cell_type": "code",
   "execution_count": 24,
   "metadata": {
    "execution": {
     "iopub.execute_input": "2020-11-18T12:53:49.405309Z",
     "iopub.status.busy": "2020-11-18T12:53:49.403889Z",
     "iopub.status.idle": "2020-11-18T12:53:49.545694Z",
     "shell.execute_reply": "2020-11-18T12:53:49.545059Z"
    },
    "papermill": {
     "duration": 0.200462,
     "end_time": "2020-11-18T12:53:49.545805",
     "exception": false,
     "start_time": "2020-11-18T12:53:49.345343",
     "status": "completed"
    },
    "tags": []
   },
   "outputs": [
    {
     "data": {
      "image/png": "[encoded data removed]",
      "text/plain": [
       "<Figure size 1000x400 with 1 Axes>"
      ]
     },
     "metadata": {},
     "output_type": "display_data"
    }
   ],
   "source": [
    "plt.figure(figsize=(10,4))\n",
    "sns.countplot(x='Outlet_Location_Type' , data=tr_df ,palette='twilight_shifted')\n",
    "plt.xlabel('Outlet_Location_Type', fontsize=14)\n",
    "plt.show()"
   ]
  },
  {
   "cell_type": "code",
   "execution_count": 25,
   "metadata": {
    "execution": {
     "iopub.execute_input": "2020-11-18T12:53:49.658790Z",
     "iopub.status.busy": "2020-11-18T12:53:49.658080Z",
     "iopub.status.idle": "2020-11-18T12:53:49.796583Z",
     "shell.execute_reply": "2020-11-18T12:53:49.795940Z"
    },
    "papermill": {
     "duration": 0.197832,
     "end_time": "2020-11-18T12:53:49.796697",
     "exception": false,
     "start_time": "2020-11-18T12:53:49.598865",
     "status": "completed"
    },
    "tags": []
   },
   "outputs": [
    {
     "data": {
      "image/png": "[encoded data removed]",
      "text/plain": [
       "<Figure size 1000x400 with 1 Axes>"
      ]
     },
     "metadata": {},
     "output_type": "display_data"
    }
   ],
   "source": [
    "plt.figure(figsize=(10,4))\n",
    "sns.countplot(x='Outlet_Type' , data=tr_df ,palette='rocket')\n",
    "plt.xlabel('Outlet_Type', fontsize=14)\n",
    "plt.show()"
   ]
  },
  {
   "cell_type": "markdown",
   "metadata": {
    "papermill": {
     "duration": 0.053508,
     "end_time": "2020-11-18T12:53:49.904218",
     "exception": false,
     "start_time": "2020-11-18T12:53:49.850710",
     "status": "completed"
    },
    "tags": []
   },
   "source": [
    "#### Categoric columns realizations\n",
    "\n",
    "* `Item_Fat_Content` - Most items sold are low fat.\n",
    "* `Item_Type` - Item types that are distictly popular are `fruits and vegetables` and `snack foods`. \n",
    "* `Outlet_Identifier` - Sold items are ditributed evenly among outlets excluding `OUT010` and `OUT019` that are significanly lower. \n",
    "* `Outlet_Size` - Bigmart outlets are mostly medium sized in our data. \n",
    "* `Outlet_Location_Type` - The most common type is `Tier3`.\n",
    "* `Outlet_Type` - By a wide margin the mode outlet type is `Supermarket Type1`.\n",
    "\n",
    "Now for the numerical columns:"
   ]
  },
  {
   "cell_type": "code",
   "execution_count": 26,
   "metadata": {
    "execution": {
     "iopub.execute_input": "2020-11-18T12:53:50.026016Z",
     "iopub.status.busy": "2020-11-18T12:53:50.018929Z",
     "iopub.status.idle": "2020-11-18T12:53:50.266902Z",
     "shell.execute_reply": "2020-11-18T12:53:50.266320Z"
    },
    "papermill": {
     "duration": 0.308919,
     "end_time": "2020-11-18T12:53:50.267022",
     "exception": false,
     "start_time": "2020-11-18T12:53:49.958103",
     "status": "completed"
    },
    "tags": []
   },
   "outputs": [
    {
     "data": {
      "image/png": "[encoded data removed]",
      "text/plain": [
       "<Figure size 640x480 with 1 Axes>"
      ]
     },
     "metadata": {},
     "output_type": "display_data"
    }
   ],
   "source": [
    "#list of all the numeric columns\n",
    "num = tr_df.select_dtypes('number').columns.to_list()\n",
    "#numeric df\n",
    "BM_num =  tr_df[num]\n",
    "\n",
    "plt.hist(tr_df['Outlet_Age'])\n",
    "plt.title(\"Outlet_Age\")\n",
    "plt.show()"
   ]
  },
  {
   "cell_type": "code",
   "execution_count": 27,
   "metadata": {
    "execution": {
     "iopub.execute_input": "2020-11-18T12:53:50.391849Z",
     "iopub.status.busy": "2020-11-18T12:53:50.391101Z",
     "iopub.status.idle": "2020-11-18T12:53:51.166183Z",
     "shell.execute_reply": "2020-11-18T12:53:51.165590Z"
    },
    "papermill": {
     "duration": 0.843561,
     "end_time": "2020-11-18T12:53:51.166311",
     "exception": false,
     "start_time": "2020-11-18T12:53:50.322750",
     "status": "completed"
    },
    "tags": []
   },
   "outputs": [
    {
     "data": {
      "image/png": "[encoded data removed]",
      "text/plain": [
       "<Figure size 640x480 with 1 Axes>"
      ]
     },
     "metadata": {},
     "output_type": "display_data"
    },
    {
     "data": {
      "image/png": "[encoded data removed]",
      "text/plain": [
       "<Figure size 640x480 with 1 Axes>"
      ]
     },
     "metadata": {},
     "output_type": "display_data"
    },
    {
     "data": {
      "image/png": "[encoded data removed]",
      "text/plain": [
       "<Figure size 640x480 with 1 Axes>"
      ]
     },
     "metadata": {},
     "output_type": "display_data"
    }
   ],
   "source": [
    "#because of the variability of the unique values of the numeric columns a scatter plot with the target value will be of use\n",
    "for numeric in BM_num[num[:3]]:\n",
    "    plt.scatter(BM_num[numeric], BM_num['Item_Outlet_Sales'])\n",
    "    plt.title(numeric)\n",
    "    plt.ylabel('Item_Outlet_Sales')\n",
    "    plt.show()"
   ]
  },
  {
   "cell_type": "markdown",
   "metadata": {
    "papermill": {
     "duration": 0.063274,
     "end_time": "2020-11-18T12:53:51.287428",
     "exception": false,
     "start_time": "2020-11-18T12:53:51.224154",
     "status": "completed"
    },
    "tags": []
   },
   "source": [
    "#### numeric columns realizations\n",
    "\n",
    "* `Outlet_Age` - The most common outlets are 35 years old.\n",
    "* `Item_Weight` - The data is very spreaded, no specific pattern.\n",
    "* `Item_Visibility` - Appears to be spreaded as well but some concentration around the (0,0) indicate small visibility items are not selling well is some cases.\n",
    "* `Item_MRP` - Items with higher MRP tend to sell better in most cases. \n"
   ]
  },
  {
   "cell_type": "markdown",
   "metadata": {
    "papermill": {
     "duration": 0.058583,
     "end_time": "2020-11-18T12:53:51.405977",
     "exception": false,
     "start_time": "2020-11-18T12:53:51.347394",
     "status": "completed"
    },
    "tags": []
   },
   "source": [
    "### multivariate plots\n",
    "I want to check the following relationships with `Item_Outlet_Sales`:\n",
    "* Sales per item type\n",
    "* Sales per outlet\n",
    "* Sales per outlet type\n",
    "* Sales per outlet size\n",
    "* Sales per location type"
   ]
  },
  {
   "cell_type": "code",
   "execution_count": 28,
   "metadata": {
    "execution": {
     "iopub.execute_input": "2020-11-18T12:53:51.529002Z",
     "iopub.status.busy": "2020-11-18T12:53:51.527695Z",
     "iopub.status.idle": "2020-11-18T12:53:52.283449Z",
     "shell.execute_reply": "2020-11-18T12:53:52.282822Z"
    },
    "papermill": {
     "duration": 0.819076,
     "end_time": "2020-11-18T12:53:52.283558",
     "exception": false,
     "start_time": "2020-11-18T12:53:51.464482",
     "status": "completed"
    },
    "tags": []
   },
   "outputs": [
    {
     "name": "stderr",
     "output_type": "stream",
     "text": [
      "No artists with labels found to put in legend.  Note that artists whose label start with an underscore are ignored when legend() is called with no argument.\n"
     ]
    },
    {
     "data": {
      "image/png": "[encoded data removed]",
      "text/plain": [
       "<Figure size 2700x1000 with 1 Axes>"
      ]
     },
     "metadata": {},
     "output_type": "display_data"
    }
   ],
   "source": [
    "plt.figure(figsize=(27,10))\n",
    "sns.barplot('Item_Type' ,'Item_Outlet_Sales', data=tr_df ,palette='gist_rainbow_r')\n",
    "plt.xlabel('Item_Type', fontsize=14)\n",
    "plt.legend()\n",
    "plt.show()"
   ]
  },
  {
   "cell_type": "code",
   "execution_count": 29,
   "metadata": {
    "execution": {
     "iopub.execute_input": "2020-11-18T12:53:52.412463Z",
     "iopub.status.busy": "2020-11-18T12:53:52.411483Z",
     "iopub.status.idle": "2020-11-18T12:53:52.969119Z",
     "shell.execute_reply": "2020-11-18T12:53:52.968487Z"
    },
    "papermill": {
     "duration": 0.624757,
     "end_time": "2020-11-18T12:53:52.969229",
     "exception": false,
     "start_time": "2020-11-18T12:53:52.344472",
     "status": "completed"
    },
    "tags": []
   },
   "outputs": [
    {
     "name": "stderr",
     "output_type": "stream",
     "text": [
      "No artists with labels found to put in legend.  Note that artists whose label start with an underscore are ignored when legend() is called with no argument.\n"
     ]
    },
    {
     "data": {
      "image/png": "[encoded data removed]",
      "text/plain": [
       "<Figure size 2700x1000 with 1 Axes>"
      ]
     },
     "metadata": {},
     "output_type": "display_data"
    }
   ],
   "source": [
    "plt.figure(figsize=(27,10))\n",
    "sns.barplot('Outlet_Identifier' ,'Item_Outlet_Sales', data=tr_df ,palette='gist_rainbow')\n",
    "plt.xlabel('Outlet_Identifier', fontsize=14)\n",
    "plt.legend()\n",
    "plt.show()"
   ]
  },
  {
   "cell_type": "code",
   "execution_count": 30,
   "metadata": {
    "execution": {
     "iopub.execute_input": "2020-11-18T12:53:53.100514Z",
     "iopub.status.busy": "2020-11-18T12:53:53.099583Z",
     "iopub.status.idle": "2020-11-18T12:53:53.403641Z",
     "shell.execute_reply": "2020-11-18T12:53:53.402997Z"
    },
    "papermill": {
     "duration": 0.372809,
     "end_time": "2020-11-18T12:53:53.403770",
     "exception": false,
     "start_time": "2020-11-18T12:53:53.030961",
     "status": "completed"
    },
    "tags": []
   },
   "outputs": [
    {
     "name": "stderr",
     "output_type": "stream",
     "text": [
      "No artists with labels found to put in legend.  Note that artists whose label start with an underscore are ignored when legend() is called with no argument.\n"
     ]
    },
    {
     "data": {
      "image/png": "[encoded data removed]",
      "text/plain": [
       "<Figure size 1000x500 with 1 Axes>"
      ]
     },
     "metadata": {},
     "output_type": "display_data"
    }
   ],
   "source": [
    "plt.figure(figsize=(10,5))\n",
    "sns.barplot('Outlet_Type' ,'Item_Outlet_Sales', data=tr_df ,palette='nipy_spectral')\n",
    "plt.xlabel('Outlet_Type', fontsize=14)\n",
    "plt.legend()\n",
    "plt.show()"
   ]
  },
  {
   "cell_type": "code",
   "execution_count": 31,
   "metadata": {
    "execution": {
     "iopub.execute_input": "2020-11-18T12:53:53.534093Z",
     "iopub.status.busy": "2020-11-18T12:53:53.532534Z",
     "iopub.status.idle": "2020-11-18T12:53:53.794377Z",
     "shell.execute_reply": "2020-11-18T12:53:53.794899Z"
    },
    "papermill": {
     "duration": 0.329446,
     "end_time": "2020-11-18T12:53:53.795042",
     "exception": false,
     "start_time": "2020-11-18T12:53:53.465596",
     "status": "completed"
    },
    "tags": []
   },
   "outputs": [
    {
     "name": "stderr",
     "output_type": "stream",
     "text": [
      "No artists with labels found to put in legend.  Note that artists whose label start with an underscore are ignored when legend() is called with no argument.\n"
     ]
    },
    {
     "data": {
      "image/png": "[encoded data removed]",
      "text/plain": [
       "<Figure size 1000x500 with 1 Axes>"
      ]
     },
     "metadata": {},
     "output_type": "display_data"
    }
   ],
   "source": [
    "plt.figure(figsize=(10,5))\n",
    "sns.barplot('Outlet_Size' ,'Item_Outlet_Sales', data=tr_df ,palette='YlOrRd')\n",
    "plt.xlabel('Outlet_Size', fontsize=14)\n",
    "plt.legend()\n",
    "plt.show()"
   ]
  },
  {
   "cell_type": "code",
   "execution_count": 32,
   "metadata": {
    "execution": {
     "iopub.execute_input": "2020-11-18T12:53:53.928056Z",
     "iopub.status.busy": "2020-11-18T12:53:53.927442Z",
     "iopub.status.idle": "2020-11-18T12:53:54.188398Z",
     "shell.execute_reply": "2020-11-18T12:53:54.188873Z"
    },
    "papermill": {
     "duration": 0.331306,
     "end_time": "2020-11-18T12:53:54.189021",
     "exception": false,
     "start_time": "2020-11-18T12:53:53.857715",
     "status": "completed"
    },
    "tags": []
   },
   "outputs": [
    {
     "name": "stderr",
     "output_type": "stream",
     "text": [
      "No artists with labels found to put in legend.  Note that artists whose label start with an underscore are ignored when legend() is called with no argument.\n"
     ]
    },
    {
     "data": {
      "image/png": "[encoded data removed]",
      "text/plain": [
       "<Figure size 1000x500 with 1 Axes>"
      ]
     },
     "metadata": {},
     "output_type": "display_data"
    }
   ],
   "source": [
    "plt.figure(figsize=(10,5))\n",
    "sns.barplot('Outlet_Location_Type' ,'Item_Outlet_Sales', data=tr_df ,palette='Spectral')\n",
    "plt.xlabel('Outlet_Location_Type', fontsize=14)\n",
    "plt.legend()\n",
    "plt.show()"
   ]
  },
  {
   "cell_type": "markdown",
   "metadata": {
    "papermill": {
     "duration": 0.063329,
     "end_time": "2020-11-18T12:53:54.316943",
     "exception": false,
     "start_time": "2020-11-18T12:53:54.253614",
     "status": "completed"
    },
    "tags": []
   },
   "source": [
    "#### Realizations:\n",
    "\n",
    "* The difference in item types by sales is very small.\n",
    "* Outlet 27 is the most profitable and there is a big diffrence between each specific outlet sales.\n",
    "* Suprisingly supermarket type 3 is the most profitable and not type 1.\n",
    "* Medium and high outlet sizes are pretty much even in sales.\n",
    "* Tier 2 and 3 are almost even being the highest in sales (2 is slightly larger). "
   ]
  },
  {
   "cell_type": "markdown",
   "metadata": {
    "papermill": {
     "duration": 0.063508,
     "end_time": "2020-11-18T12:53:54.444610",
     "exception": false,
     "start_time": "2020-11-18T12:53:54.381102",
     "status": "completed"
    },
    "tags": []
   },
   "source": [
    "### Corraltion Matrix\n"
   ]
  },
  {
   "cell_type": "code",
   "execution_count": 33,
   "metadata": {
    "execution": {
     "iopub.execute_input": "2020-11-18T12:53:54.579123Z",
     "iopub.status.busy": "2020-11-18T12:53:54.576387Z",
     "iopub.status.idle": "2020-11-18T12:53:54.824232Z",
     "shell.execute_reply": "2020-11-18T12:53:54.823740Z"
    },
    "papermill": {
     "duration": 0.315912,
     "end_time": "2020-11-18T12:53:54.824362",
     "exception": false,
     "start_time": "2020-11-18T12:53:54.508450",
     "status": "completed"
    },
    "tags": []
   },
   "outputs": [
    {
     "data": {
      "text/plain": [
       "<AxesSubplot:>"
      ]
     },
     "execution_count": 33,
     "metadata": {},
     "output_type": "execute_result"
    },
    {
     "data": {
      "image/png": "[encoded data removed]",
      "text/plain": [
       "<Figure size 640x480 with 2 Axes>"
      ]
     },
     "metadata": {},
     "output_type": "display_data"
    }
   ],
   "source": [
    "#plotting the correlation matrix\n",
    "sns.heatmap(tr_df.corr() ,cmap='rocket')"
   ]
  },
  {
   "cell_type": "markdown",
   "metadata": {
    "papermill": {
     "duration": 0.064648,
     "end_time": "2020-11-18T12:53:54.954091",
     "exception": false,
     "start_time": "2020-11-18T12:53:54.889443",
     "status": "completed"
    },
    "tags": []
   },
   "source": [
    "**We can see `Item_Outlet_Sales` is highly correlated with `Item_MRP`**"
   ]
  },
  {
   "cell_type": "markdown",
   "metadata": {
    "papermill": {
     "duration": 0.065469,
     "end_time": "2020-11-18T12:53:55.086021",
     "exception": false,
     "start_time": "2020-11-18T12:53:55.020552",
     "status": "completed"
    },
    "tags": []
   },
   "source": [
    "### Feature Engineering\n",
    "\n",
    "**Categorical values**:\n",
    "\n",
    "We have 7 columns we need to delete or encode.\n",
    "\n",
    "* Ordinal variables:\n",
    "    * `Item_Fat_Content`  \n",
    "    * `Outlet_Size`  \n",
    "    * `Outlet_Location_Type`\n",
    "    \n",
    "* Nominal variables:\n",
    "    * `Item_Identifier `  \n",
    "    * `Item_Type`\n",
    "    * `Outlet_Identifier`\n",
    "    * `Outlet_Type`\n",
    "\n",
    "**Numeric values**:\n",
    "\n",
    "* From the numeric variables `Outlet_Establishment_Year` is no longer needed\n",
    "\n",
    "**Conclusion:**\n",
    "\n",
    "In my FE process i have decided:\n",
    "\n",
    "1. The columns `Outlet_Establishment_Year`, `Item_Identifier ` and `Outlet_Identifier` don't have significant values so we will drop them.\n",
    "2. All Ordinal variables will be Label encoded.\n",
    "3. The columns `Outlet_Type` and `Item_Type`  will be One Hot encoded.\n",
    "\n"
   ]
  },
  {
   "cell_type": "code",
   "execution_count": 34,
   "metadata": {
    "execution": {
     "iopub.execute_input": "2020-11-18T12:53:55.220916Z",
     "iopub.status.busy": "2020-11-18T12:53:55.220288Z",
     "iopub.status.idle": "2020-11-18T12:53:55.233960Z",
     "shell.execute_reply": "2020-11-18T12:53:55.233472Z"
    },
    "papermill": {
     "duration": 0.083353,
     "end_time": "2020-11-18T12:53:55.234083",
     "exception": false,
     "start_time": "2020-11-18T12:53:55.150730",
     "status": "completed"
    },
    "tags": []
   },
   "outputs": [
    {
     "data": {
      "text/plain": [
       "Item_Identifier         1559\n",
       "Item_Fat_Content           5\n",
       "Item_Type                 16\n",
       "Outlet_Identifier         10\n",
       "Outlet_Size                3\n",
       "Outlet_Location_Type       3\n",
       "Outlet_Type                4\n",
       "dtype: int64"
      ]
     },
     "execution_count": 34,
     "metadata": {},
     "output_type": "execute_result"
    }
   ],
   "source": [
    "BM_cat.apply(lambda x: x.nunique()) #checking the number of unique values in each column"
   ]
  },
  {
   "cell_type": "code",
   "execution_count": 35,
   "metadata": {
    "execution": {
     "iopub.execute_input": "2020-11-18T12:53:55.400057Z",
     "iopub.status.busy": "2020-11-18T12:53:55.382090Z",
     "iopub.status.idle": "2020-11-18T12:53:55.404373Z",
     "shell.execute_reply": "2020-11-18T12:53:55.403756Z"
    },
    "papermill": {
     "duration": 0.104563,
     "end_time": "2020-11-18T12:53:55.404485",
     "exception": false,
     "start_time": "2020-11-18T12:53:55.299922",
     "status": "completed"
    },
    "tags": []
   },
   "outputs": [
    {
     "data": {
      "text/html": [
       "<div>\n",
       "<style scoped>\n",
       "    .dataframe tbody tr th:only-of-type {\n",
       "        vertical-align: middle;\n",
       "    }\n",
       "\n",
       "    .dataframe tbody tr th {\n",
       "        vertical-align: top;\n",
       "    }\n",
       "\n",
       "    .dataframe thead th {\n",
       "        text-align: right;\n",
       "    }\n",
       "</style>\n",
       "<table border=\"1\" class=\"dataframe\">\n",
       "  <thead>\n",
       "    <tr style=\"text-align: right;\">\n",
       "      <th></th>\n",
       "      <th>Item_Identifier</th>\n",
       "      <th>Item_Weight</th>\n",
       "      <th>Item_Fat_Content</th>\n",
       "      <th>Item_Visibility</th>\n",
       "      <th>Item_Type</th>\n",
       "      <th>Item_MRP</th>\n",
       "      <th>Outlet_Identifier</th>\n",
       "      <th>Outlet_Establishment_Year</th>\n",
       "      <th>Outlet_Size</th>\n",
       "      <th>Outlet_Location_Type</th>\n",
       "      <th>Outlet_Type</th>\n",
       "      <th>Item_Outlet_Sales</th>\n",
       "      <th>Outlet_Age</th>\n",
       "    </tr>\n",
       "  </thead>\n",
       "  <tbody>\n",
       "    <tr>\n",
       "      <th>0</th>\n",
       "      <td>FDA15</td>\n",
       "      <td>9.30</td>\n",
       "      <td>0</td>\n",
       "      <td>0.016047</td>\n",
       "      <td>Dairy</td>\n",
       "      <td>249.8092</td>\n",
       "      <td>OUT049</td>\n",
       "      <td>1999</td>\n",
       "      <td>1</td>\n",
       "      <td>0</td>\n",
       "      <td>Supermarket Type1</td>\n",
       "      <td>3735.1380</td>\n",
       "      <td>21</td>\n",
       "    </tr>\n",
       "    <tr>\n",
       "      <th>1</th>\n",
       "      <td>DRC01</td>\n",
       "      <td>5.92</td>\n",
       "      <td>1</td>\n",
       "      <td>0.019278</td>\n",
       "      <td>Soft Drinks</td>\n",
       "      <td>48.2692</td>\n",
       "      <td>OUT018</td>\n",
       "      <td>2009</td>\n",
       "      <td>1</td>\n",
       "      <td>2</td>\n",
       "      <td>Supermarket Type2</td>\n",
       "      <td>443.4228</td>\n",
       "      <td>11</td>\n",
       "    </tr>\n",
       "    <tr>\n",
       "      <th>2</th>\n",
       "      <td>FDN15</td>\n",
       "      <td>17.50</td>\n",
       "      <td>0</td>\n",
       "      <td>0.016760</td>\n",
       "      <td>Meat</td>\n",
       "      <td>141.6180</td>\n",
       "      <td>OUT049</td>\n",
       "      <td>1999</td>\n",
       "      <td>1</td>\n",
       "      <td>0</td>\n",
       "      <td>Supermarket Type1</td>\n",
       "      <td>2097.2700</td>\n",
       "      <td>21</td>\n",
       "    </tr>\n",
       "    <tr>\n",
       "      <th>3</th>\n",
       "      <td>FDX07</td>\n",
       "      <td>19.20</td>\n",
       "      <td>1</td>\n",
       "      <td>0.000000</td>\n",
       "      <td>Fruits and Vegetables</td>\n",
       "      <td>182.0950</td>\n",
       "      <td>OUT010</td>\n",
       "      <td>1998</td>\n",
       "      <td>1</td>\n",
       "      <td>2</td>\n",
       "      <td>Grocery Store</td>\n",
       "      <td>732.3800</td>\n",
       "      <td>22</td>\n",
       "    </tr>\n",
       "    <tr>\n",
       "      <th>4</th>\n",
       "      <td>NCD19</td>\n",
       "      <td>8.93</td>\n",
       "      <td>0</td>\n",
       "      <td>0.000000</td>\n",
       "      <td>Household</td>\n",
       "      <td>53.8614</td>\n",
       "      <td>OUT013</td>\n",
       "      <td>1987</td>\n",
       "      <td>0</td>\n",
       "      <td>2</td>\n",
       "      <td>Supermarket Type1</td>\n",
       "      <td>994.7052</td>\n",
       "      <td>33</td>\n",
       "    </tr>\n",
       "  </tbody>\n",
       "</table>\n",
       "</div>"
      ],
      "text/plain": [
       "  Item_Identifier  Item_Weight  Item_Fat_Content  Item_Visibility  \\\n",
       "0           FDA15         9.30                 0         0.016047   \n",
       "1           DRC01         5.92                 1         0.019278   \n",
       "2           FDN15        17.50                 0         0.016760   \n",
       "3           FDX07        19.20                 1         0.000000   \n",
       "4           NCD19         8.93                 0         0.000000   \n",
       "\n",
       "               Item_Type  Item_MRP Outlet_Identifier  \\\n",
       "0                  Dairy  249.8092            OUT049   \n",
       "1            Soft Drinks   48.2692            OUT018   \n",
       "2                   Meat  141.6180            OUT049   \n",
       "3  Fruits and Vegetables  182.0950            OUT010   \n",
       "4              Household   53.8614            OUT013   \n",
       "\n",
       "   Outlet_Establishment_Year  Outlet_Size  Outlet_Location_Type  \\\n",
       "0                       1999            1                     0   \n",
       "1                       2009            1                     2   \n",
       "2                       1999            1                     0   \n",
       "3                       1998            1                     2   \n",
       "4                       1987            0                     2   \n",
       "\n",
       "         Outlet_Type  Item_Outlet_Sales  Outlet_Age  \n",
       "0  Supermarket Type1          3735.1380          21  \n",
       "1  Supermarket Type2           443.4228          11  \n",
       "2  Supermarket Type1          2097.2700          21  \n",
       "3      Grocery Store           732.3800          22  \n",
       "4  Supermarket Type1           994.7052          33  "
      ]
     },
     "execution_count": 35,
     "metadata": {},
     "output_type": "execute_result"
    }
   ],
   "source": [
    "#lable encoding\n",
    "\n",
    "le = LabelEncoder()\n",
    "Label = ['Item_Fat_Content','Outlet_Size','Outlet_Location_Type']\n",
    "\n",
    "for i in Label:\n",
    "    tr_df[i] = le.fit_transform(tr_df[i])\n",
    "    te_df[i] = le.fit_transform(te_df[i])\n",
    "    \n",
    "tr_df.head()"
   ]
  },
  {
   "cell_type": "code",
   "execution_count": 36,
   "metadata": {
    "execution": {
     "iopub.execute_input": "2020-11-18T12:53:55.654808Z",
     "iopub.status.busy": "2020-11-18T12:53:55.650698Z",
     "iopub.status.idle": "2020-11-18T12:53:55.678910Z",
     "shell.execute_reply": "2020-11-18T12:53:55.678361Z"
    },
    "papermill": {
     "duration": 0.208001,
     "end_time": "2020-11-18T12:53:55.679031",
     "exception": false,
     "start_time": "2020-11-18T12:53:55.471030",
     "status": "completed"
    },
    "tags": []
   },
   "outputs": [],
   "source": [
    "#one hot encoding\n",
    "cols = ['Item_Type','Outlet_Type']\n",
    "# Apply one-hot encoder\n",
    "OH_encoder = OneHotEncoder(handle_unknown='ignore', sparse=False)\n",
    "tr_oh = pd.DataFrame(OH_encoder.fit_transform(tr_df[cols])).astype('int64')\n",
    "te_oh = pd.DataFrame(OH_encoder.fit_transform(te_df[cols])).astype('int64')\n",
    "\n",
    "\n",
    "#get feature columns\n",
    "tr_oh.columns = OH_encoder.get_feature_names(cols)\n",
    "te_oh.columns = OH_encoder.get_feature_names(cols)\n",
    "\n",
    "# One-hot encoding removed index; put it back\n",
    "tr_oh.index = tr_df.index\n",
    "te_oh.index = te_df.index\n",
    "\n",
    "# Add one-hot encoded columns to our main df new name: tr_fe, te_fe (means feature engeenired) \n",
    "tr_fe = pd.concat([tr_df, tr_oh], axis=1)\n",
    "te_fe = pd.concat([te_df, te_oh], axis=1)"
   ]
  },
  {
   "cell_type": "code",
   "execution_count": 37,
   "metadata": {
    "execution": {
     "iopub.execute_input": "2020-11-18T12:53:55.820491Z",
     "iopub.status.busy": "2020-11-18T12:53:55.819827Z",
     "iopub.status.idle": "2020-11-18T12:53:55.828611Z",
     "shell.execute_reply": "2020-11-18T12:53:55.827970Z"
    },
    "papermill": {
     "duration": 0.083158,
     "end_time": "2020-11-18T12:53:55.828728",
     "exception": false,
     "start_time": "2020-11-18T12:53:55.745570",
     "status": "completed"
    },
    "tags": []
   },
   "outputs": [],
   "source": [
    "# Dropping irrelevant columns\n",
    "\n",
    "tr_fe  = tr_fe.drop(['Item_Identifier','Outlet_Identifier','Outlet_Establishment_Year','Outlet_Type','Item_Type'],axis=1)\n",
    "te_fe = te_fe.drop(['Item_Identifier','Outlet_Identifier','Outlet_Establishment_Year','Outlet_Type','Item_Type'],axis=1)"
   ]
  },
  {
   "cell_type": "code",
   "execution_count": 38,
   "metadata": {
    "execution": {
     "iopub.execute_input": "2020-11-18T12:53:55.982752Z",
     "iopub.status.busy": "2020-11-18T12:53:55.981997Z",
     "iopub.status.idle": "2020-11-18T12:53:55.985710Z",
     "shell.execute_reply": "2020-11-18T12:53:55.986141Z"
    },
    "papermill": {
     "duration": 0.091346,
     "end_time": "2020-11-18T12:53:55.986307",
     "exception": false,
     "start_time": "2020-11-18T12:53:55.894961",
     "status": "completed"
    },
    "tags": []
   },
   "outputs": [
    {
     "data": {
      "text/html": [
       "<div>\n",
       "<style scoped>\n",
       "    .dataframe tbody tr th:only-of-type {\n",
       "        vertical-align: middle;\n",
       "    }\n",
       "\n",
       "    .dataframe tbody tr th {\n",
       "        vertical-align: top;\n",
       "    }\n",
       "\n",
       "    .dataframe thead th {\n",
       "        text-align: right;\n",
       "    }\n",
       "</style>\n",
       "<table border=\"1\" class=\"dataframe\">\n",
       "  <thead>\n",
       "    <tr style=\"text-align: right;\">\n",
       "      <th></th>\n",
       "      <th>Item_Weight</th>\n",
       "      <th>Item_Fat_Content</th>\n",
       "      <th>Item_Visibility</th>\n",
       "      <th>Item_MRP</th>\n",
       "      <th>Outlet_Size</th>\n",
       "      <th>Outlet_Location_Type</th>\n",
       "      <th>Item_Outlet_Sales</th>\n",
       "      <th>Outlet_Age</th>\n",
       "      <th>Item_Type_Baking Goods</th>\n",
       "      <th>Item_Type_Breads</th>\n",
       "      <th>...</th>\n",
       "      <th>Item_Type_Meat</th>\n",
       "      <th>Item_Type_Others</th>\n",
       "      <th>Item_Type_Seafood</th>\n",
       "      <th>Item_Type_Snack Foods</th>\n",
       "      <th>Item_Type_Soft Drinks</th>\n",
       "      <th>Item_Type_Starchy Foods</th>\n",
       "      <th>Outlet_Type_Grocery Store</th>\n",
       "      <th>Outlet_Type_Supermarket Type1</th>\n",
       "      <th>Outlet_Type_Supermarket Type2</th>\n",
       "      <th>Outlet_Type_Supermarket Type3</th>\n",
       "    </tr>\n",
       "  </thead>\n",
       "  <tbody>\n",
       "    <tr>\n",
       "      <th>0</th>\n",
       "      <td>9.30</td>\n",
       "      <td>0</td>\n",
       "      <td>0.016047</td>\n",
       "      <td>249.8092</td>\n",
       "      <td>1</td>\n",
       "      <td>0</td>\n",
       "      <td>3735.1380</td>\n",
       "      <td>21</td>\n",
       "      <td>0</td>\n",
       "      <td>0</td>\n",
       "      <td>...</td>\n",
       "      <td>0</td>\n",
       "      <td>0</td>\n",
       "      <td>0</td>\n",
       "      <td>0</td>\n",
       "      <td>0</td>\n",
       "      <td>0</td>\n",
       "      <td>0</td>\n",
       "      <td>1</td>\n",
       "      <td>0</td>\n",
       "      <td>0</td>\n",
       "    </tr>\n",
       "    <tr>\n",
       "      <th>1</th>\n",
       "      <td>5.92</td>\n",
       "      <td>1</td>\n",
       "      <td>0.019278</td>\n",
       "      <td>48.2692</td>\n",
       "      <td>1</td>\n",
       "      <td>2</td>\n",
       "      <td>443.4228</td>\n",
       "      <td>11</td>\n",
       "      <td>0</td>\n",
       "      <td>0</td>\n",
       "      <td>...</td>\n",
       "      <td>0</td>\n",
       "      <td>0</td>\n",
       "      <td>0</td>\n",
       "      <td>0</td>\n",
       "      <td>1</td>\n",
       "      <td>0</td>\n",
       "      <td>0</td>\n",
       "      <td>0</td>\n",
       "      <td>1</td>\n",
       "      <td>0</td>\n",
       "    </tr>\n",
       "    <tr>\n",
       "      <th>2</th>\n",
       "      <td>17.50</td>\n",
       "      <td>0</td>\n",
       "      <td>0.016760</td>\n",
       "      <td>141.6180</td>\n",
       "      <td>1</td>\n",
       "      <td>0</td>\n",
       "      <td>2097.2700</td>\n",
       "      <td>21</td>\n",
       "      <td>0</td>\n",
       "      <td>0</td>\n",
       "      <td>...</td>\n",
       "      <td>1</td>\n",
       "      <td>0</td>\n",
       "      <td>0</td>\n",
       "      <td>0</td>\n",
       "      <td>0</td>\n",
       "      <td>0</td>\n",
       "      <td>0</td>\n",
       "      <td>1</td>\n",
       "      <td>0</td>\n",
       "      <td>0</td>\n",
       "    </tr>\n",
       "    <tr>\n",
       "      <th>3</th>\n",
       "      <td>19.20</td>\n",
       "      <td>1</td>\n",
       "      <td>0.000000</td>\n",
       "      <td>182.0950</td>\n",
       "      <td>1</td>\n",
       "      <td>2</td>\n",
       "      <td>732.3800</td>\n",
       "      <td>22</td>\n",
       "      <td>0</td>\n",
       "      <td>0</td>\n",
       "      <td>...</td>\n",
       "      <td>0</td>\n",
       "      <td>0</td>\n",
       "      <td>0</td>\n",
       "      <td>0</td>\n",
       "      <td>0</td>\n",
       "      <td>0</td>\n",
       "      <td>1</td>\n",
       "      <td>0</td>\n",
       "      <td>0</td>\n",
       "      <td>0</td>\n",
       "    </tr>\n",
       "    <tr>\n",
       "      <th>4</th>\n",
       "      <td>8.93</td>\n",
       "      <td>0</td>\n",
       "      <td>0.000000</td>\n",
       "      <td>53.8614</td>\n",
       "      <td>0</td>\n",
       "      <td>2</td>\n",
       "      <td>994.7052</td>\n",
       "      <td>33</td>\n",
       "      <td>0</td>\n",
       "      <td>0</td>\n",
       "      <td>...</td>\n",
       "      <td>0</td>\n",
       "      <td>0</td>\n",
       "      <td>0</td>\n",
       "      <td>0</td>\n",
       "      <td>0</td>\n",
       "      <td>0</td>\n",
       "      <td>0</td>\n",
       "      <td>1</td>\n",
       "      <td>0</td>\n",
       "      <td>0</td>\n",
       "    </tr>\n",
       "  </tbody>\n",
       "</table>\n",
       "<p>5 rows × 28 columns</p>\n",
       "</div>"
      ],
      "text/plain": [
       "   Item_Weight  Item_Fat_Content  Item_Visibility  Item_MRP  Outlet_Size  \\\n",
       "0         9.30                 0         0.016047  249.8092            1   \n",
       "1         5.92                 1         0.019278   48.2692            1   \n",
       "2        17.50                 0         0.016760  141.6180            1   \n",
       "3        19.20                 1         0.000000  182.0950            1   \n",
       "4         8.93                 0         0.000000   53.8614            0   \n",
       "\n",
       "   Outlet_Location_Type  Item_Outlet_Sales  Outlet_Age  \\\n",
       "0                     0          3735.1380          21   \n",
       "1                     2           443.4228          11   \n",
       "2                     0          2097.2700          21   \n",
       "3                     2           732.3800          22   \n",
       "4                     2           994.7052          33   \n",
       "\n",
       "   Item_Type_Baking Goods  Item_Type_Breads  ...  Item_Type_Meat  \\\n",
       "0                       0                 0  ...               0   \n",
       "1                       0                 0  ...               0   \n",
       "2                       0                 0  ...               1   \n",
       "3                       0                 0  ...               0   \n",
       "4                       0                 0  ...               0   \n",
       "\n",
       "   Item_Type_Others  Item_Type_Seafood  Item_Type_Snack Foods  \\\n",
       "0                 0                  0                      0   \n",
       "1                 0                  0                      0   \n",
       "2                 0                  0                      0   \n",
       "3                 0                  0                      0   \n",
       "4                 0                  0                      0   \n",
       "\n",
       "   Item_Type_Soft Drinks  Item_Type_Starchy Foods  Outlet_Type_Grocery Store  \\\n",
       "0                      0                        0                          0   \n",
       "1                      1                        0                          0   \n",
       "2                      0                        0                          0   \n",
       "3                      0                        0                          1   \n",
       "4                      0                        0                          0   \n",
       "\n",
       "   Outlet_Type_Supermarket Type1  Outlet_Type_Supermarket Type2  \\\n",
       "0                              1                              0   \n",
       "1                              0                              1   \n",
       "2                              1                              0   \n",
       "3                              0                              0   \n",
       "4                              1                              0   \n",
       "\n",
       "   Outlet_Type_Supermarket Type3  \n",
       "0                              0  \n",
       "1                              0  \n",
       "2                              0  \n",
       "3                              0  \n",
       "4                              0  \n",
       "\n",
       "[5 rows x 28 columns]"
      ]
     },
     "execution_count": 38,
     "metadata": {},
     "output_type": "execute_result"
    }
   ],
   "source": [
    "tr_fe.head()"
   ]
  },
  {
   "cell_type": "markdown",
   "metadata": {
    "papermill": {
     "duration": 0.06639,
     "end_time": "2020-11-18T12:53:56.119511",
     "exception": false,
     "start_time": "2020-11-18T12:53:56.053121",
     "status": "completed"
    },
    "tags": []
   },
   "source": [
    "# Machine learning models\n",
    "\n",
    "![](https://media4.giphy.com/media/4TtTVTmBoXp8txRU0C/200w.webp?cid=ecf05e47hbwccgi1rqz8b91h2vj504ui7e6q02oscy461q42&rid=200w.webp)\n",
    "\n",
    "First of all we will divide our dataset into two variables `X` as the features we defined earlier and `y` as the `\tItem_Outlet_Sales` the target value we want to predict.\n",
    "\n",
    "**Assumptions:**\n",
    "\n",
    "* This is a regression problem so we will use Regression methods.\n",
    "\n",
    "* Train test split will be a 8:2 ratio respectively.\n",
    "\n",
    "## Models we will use:\n",
    "\n",
    "* **Linear Regression** \n",
    "* **Random Forest Regressor** \n",
    "* **Lasso Regressor** \n",
    "\n",
    "## The Process of Modeling the Data:\n",
    "\n",
    "1. Importing the model\n",
    "\n",
    "2. Fitting the model\n",
    "\n",
    "3. Predicting Item Outlet Sales\n",
    "\n",
    "4. Regression metrics\n",
    "\n",
    "### Score Metrics for Regression:\n",
    "\n",
    "* **Mean Absolute Error (MAE)**  -  Mean of the absolute value of errors (absolute distance from true value):\n",
    "![](data:image/jpeg;base64,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)\n",
    "\n",
    "* **Mean Squared Error (MSE)**  -  Mean of the squared value of errors (squared distance from true value):\n",
    "![](data:image/png;base64,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)\n",
    "\n",
    "* **R^2 (coefficient of determination)**  -  Regression score function.:\n",
    "![](data:image/png;base64,iVBORw0KGgoAAAANSUhEUgAAAfgAAABkCAMAAABdJdLBAAABTVBMVEX///8AAAB9fX1MTEyysrLL4vX259Lj4+PT09PEqotHR0fh9//88eC30eW2trb6///u9/+goKDm2Lz///vhza+bt9CNjY1FYYKMqMFiYmL/+vFOcpPYvaEmTHCghGTLs5Jbgp9sbGxxka5+nrkTM16ow9nFxcXB0Nv//uzv5tv29vaMa0LbzsF7WTcPAAAWO16wvcmMcUxLKABXV1eLfnIAAA56UyM1NTUxCgBoPRZRWmQaAABWNAMAACVacIOhk4jNvKgAKEcAABkADERrbnc2AACzpplTOR93a2KqiV0+JQZqeZCPnKOWp7YAADeAkKJiVEdFOS4AAC5GFgAZIUtaRD19a1WPblU+RVJ1VEgqAABlMAAhJSoAJlotPVRTHgA9LRsEHi8lHxkfK0NOCQB0QwAAQHMAAEhFIRlhOSSIdXQiHjFaSTM2MDolEzWKxFQFAAAP/ElEQVR4nO1d+1vayBrOWBqITUUTFsscDLC7h3Kvt+IFFddVvLSuWrfWUld72z17O+f///EkcyeJQiBgWPM+T0scQjKZb+a7zxdJChEiRIgQIUKECBEiRIgQIUKECBEiRIgQIUKECDEkwGbq0fr8ffcixKihTj6XpG0wG7/vjvyjIadyuVQncgiv3M9vPh5OP4TrvkOHCvhuOHcKgSADAF7PcCSTE0sNYMGVwtVv/bltyd6gNuj9Cu0fpq0G8L0/txoFisufVz6vP5f092zU9NbZ1crVcVxSAjqBMwBk7W3F1kcA3Ei88C9/biqDZ46mnSf4AG5sWoQvtH8cG17fBMclqVTcf2b8hzZVGltRc35fzFXA0/vs2h1YAOAbR6PeAi7jnv7JH1rItddtxz2VF/TeiB3IYNaXe40AC2/wnIWLIEua0nRMDfAmqPMXroIdF7aecM7UQu3fvtxRNa+jNuzXgucdXMAI7EqxQ2E9zQDyUDLIkia1Edz5qwHwwqVZcbB140df7qc2rIFS23bCZl4KayPtwoaCCZWzJg0QcVV+SQ4kfcMh1IIDxUXMm/j9SeffasOfZ9Cj6ANO29oLNa4GufCboCLNtSH5Zzx1C7Uf2Bz+Y0hmkC+oAuDCxEs24ZRxV/T9Q5np8ekv9lkRXBh8xScIk5TBJl00cDKoIt6CugrePOl6VvWXIXeDzaw0ct4cBHnIOBS+akrESjVtZConCXsLKhKguw4N21l6qB4snWCqVDx7VosHS8f4aPu57Stq5KWR80gOrlbUAVNFApevY2KTfgPAp4n5ceBaBujqKNOY7a3+93EBn67WNj0uS/l6WsZ6mwbsHKSA10kaYPjkKxo6DNzddWEea7jp0+v761WP0DdAN3UqzTha9am5OOdwm9dluf/EHJWsdaTgDxFfrYvCA+wzTo2Netc6w3QW7JDiKW6iAYdSlICeoEcF0MUDp5LJ+biUH6WMk2vdPA0KlcDynEXxrHVoED5Rcrhgb4Gl/hAvfJlMpCi/7a8/jIdYd6A0tfwRgJeinlSqNM/4ZKgkV8HuzEzy4OoEN8A/T8HOhIVTpiNsX86XStvrrbmR9j3DFRJ3GJTwivkwdcQf9D8wm+D+im4wnkpwA10ItrGPNiF4b+tvxkEsukNvOj2glQbniB+wqccdkgkqy2iYQplDZ2ijjk65um4FMMKXLKcFWptqG4t4NScaeoW3kzZk2Xcl68HQjJbBCzwSu5zY9Z/GjvBF3uMNMoUhV+QVQFcvI3idilSDi87H+AzCML6OWMaRlXgrDOFrBc/WhKuI16ciNnSo7waeXy4i3kfCl2Kx0UiNKh+UBbJw0lwr5QOUpozthhDe1KosQlvOkveoqwoVtb+PWN5pbk4cAYpA+CruveEMsnUFXMTXKbvcrv6zP88MD3YjB+BkBAMIP3O5XidLtswZZ4YNEF02CcoDVHxgET2CGhR6bn6YHXZCbdxiPkGSI8FjEVKhjcN0a+hptnOTdov8Dsg4zg73kCrUyl0KbObDC39ohaLi6S46iy9g3nmLkvh+cJETvrpJWdgHHOysNKiejz29GmeZpnp9+Trfq5bsG+DGbYYZnbUJrgIQYw5b8YlvpUMPBEvg8cGXUJ5JdX5fuOePzyYxh4a7OgJ/v8L51gJR6oV4Mh8yGVybIq+Z2mVLxACXS0uTIsusIKtwa8RqTvlWLguJU0oVghH42bAVfxqXPngwQJgVb14NXkqFPb4uVZ98NgqeW0ofgsgr6swrz8LIaUDvSx4VN56Y9nrlaIuOsinizUO93jE3S/nlxojTEJTuARi4yMgLbyx2rbatJ4Tzgk+vB6gN6zIaMl7VeXNE+KMnumgZPd8ihdbVCAhfAM808CofjU4dvaADWJ6Da9fz0WjsQrCSiIjX2NSWa79ZH29N6suioNSroHvUxD/cHgXVY8w4MXYYUzCfNtZcPyKzxfDUV3Pym79tkN/UhaQew6v/l1yP4epEHMO1l56H0GtIRT4xZ34rNTnJWbj0p8mrKweTk+vHnGnrG2+IjU75GwnmWvdDyaWFLfZFn4TvJxoku/oM3pk9gKmpIzpvNWF2wKnIc2LMm6LZmxZVMu07Ysybdxa4+4f+tLESrIK5koXKPuDJwRnvC764PySnGZX7CntcnmCE9TuNPnumvxho8aKPLBm46DbimpWWYzyW6nQw9A1yGpwhrBQ/hcWtW72G6ov4t8SYRyJmmaxzuV9lDN7QiStkvXmSP6hjy2c9xCj7A7Xiy9an5YrXN6huAPfRUyskFwGeex8EOJN8BPpJSq5+78Ji4Z7Zx8KsuCYT1FAFVjJpoU0crOUf43C9Vyb9AS116raTfp2z7oFR7ne5yTzAZFCHueZ1FhVnpqKZYRF+gfSmbM53FG7WCJ1K20f4qasga32o+33oJXAmEk30QXjDTRbKixaV4XSH2ldHndPxAltgvsffpIteR7lQs5a6vkYv+uu/JJqKLved4KMAlq1nkP0A2pcnHb7T3jAkwl+kchO5dWuVwIsvyd24lHiUyuWWEFI4CKlexrcnl3Kn6/2OQR+ET7usjeIy5Xr6jZCIqeJTkWuKCym4nOvdgbP22NJcN+nzweVdcqhv9B2bKDOPuGleodBPAplNGa/5mkNb8QLu8tAM4L3xTniTlZeE0HAslp+xQow0YqOZnzz5TkOSCb7fTZ716WhQ3+4uf37l8lujbz8bPGK6Kcl5SvyFQgRvvS6fURB+SPBMeHUV3ALM/43NaWRsEmjXiGalngPwTrj/Vrllr14P0LiIX0C6A8l/ATteDaOHRPhiZModJJnuZlbSRH/aABS/EwPkJCqUwvACIBZfjBF4vdJDInw3HM5VLgOeFlMG35sSKpZfBlt36BpwecKOnF0UBJTwetPR9Qn7k/pOeKky4iihZ8BVsGUK9JlTcHLXaXoz6cCYEF5qObs+fMIHHsyKV8DcgLwpqITvAQ+Q8AogQW+4N2iQx0F4ZcWWRLYiMon85KNhYcVr1x2EdybAiapabGVoXfcHPTwys+L1vUHTFB2EL9qTyCKiIRpzil6/kPPadQfh4Z0JcNHhdd0fdH9iTm4ZDBqHDVn9GIE76tN3pglDF4eFXTIElPDWbhc77FP84RE+A2gyvnH3ZqBozAG7LhhQwrt13e77fHiEX2CO+jIK0MgDpFgGlfA94MERvrAq5DZYYcZ3A2RYGsCnNN/RQ+Fb8nsH2qboVuxu1/1a2/5WKSm8EkYbNpdSr3uN/8hU4iEjC+6Db/Rmv4q9eqvk7wWQCA7R80wYcnHoabNcffH48HANgK0ZsdjdROrs9gspg/pJ7EjzdSZfPpeK1X7t8Vgkci91CIoXn3aTqZffmENDm/QWWJ+Y+LgVl0eaPOkRcgM49qnC/Kl7Ok/Cp5pnAth44cIhPE9jPLANUKkHuD/B8+iPZtFCV7b2f7u3fvWAtOtW2cqRCwHUYWxTWCNymuwUzYxNUQQLrHCA2qDjpbbpcJYDXpnVfausuph1tFWHsTFJIyOmAbQ+EqPY/eQXVN5ZtiulyjStoJfvgueuxWtlR6a7NjAXnrG5IlDUnG6kimIGGfBl0gGhEqPBql6xuSC/DPjObw04xbyJQzsfqA6ceR7NdwJldiTE+aRvbAZ8tET8yrt+SPxpwhZwOfDmtXuVQ92WcCMPqeAkrAlSfXyqmVr4ytkTrb0u+AO04PMu9yqHNvSwx64/1LlJp2yOlU5fB+DYxiuV0W96HQDqag/OnzKvkLS9tITz8vSet9FQwOUlkmhbnCfXU5i5q1yPz5hZyFiKSmehO+QM+jIehe4kVOWwmwCH5+yM9CytRJnxqoPr+0/1c/QbfY/Sm+2URbWT1eAzSA5S504UggnStDUeHmCja1FBtZalR9dxc5WiZ13wKvdNjRHeoJL+MtMo6b7NFtKP0gEu+exEZfnM7ustNnGhOzS9i9gfGsEf0+yUVCr1iLinO0/xUGDEF+hr3aoc8m21yjNawIkWtYG9Jl4X/sdKX3FmoYIsuixYubq6+jxW2p2FUv7CXvy9VGnWsI1c33xtWi91cGL+3ySPBi+un1ubJ40dROVDYJ3yDrxCp4y8Yrvc6FLlkG9Bff+E1jyTAdqgq3/t9VUiiSwrm8SZBXaDaFcrCH8F2L99Gwzg2IOoIf5fQAkD+iLWoDZwbbPVLP2Z1Qx/R61VUhdq9NM+3WWjMCd8iW2TJkUupeWOesaGPdXvkmk6Otr1hEbhhhkJhQC/yeEOwCQ7lOnmo21hl6k1Xpln+GusHqHaZmqNe3hAFtURsi62h/e4v7uHaW/c7TPr2HRex1RzF/EVe6rfvMgPSP03LuLNoRhLwstcHS7UiMP2b7H03VOJ7EBL45HVLyVLOvJAF1z9JU7euEbrZbwfvTXgXiKBQyy3Sd4PRkW8JxziySLYA+o4uec5hPe30FJHao0v2A1L/OFI8SER7tZfYnUeuLoZJ6cQZXmQ7WT9onpbBso25uNi5ZI0rVtmlVWQc6deFPEPeLIYYgW1cQrIMQjFHGglIMH7LNbpveF1egurQoxerjG1qnpv0WjjNg8OKcMoFdp8hpNpi0S8uh5PeOh1oY1YPKnqiaCNzcuHRMBz9tSMyIdsCgt1wpiIx6cKDvw0+wKu+vOyJ+9wK5FAQLM613iXCWOyqntYRam9lL4ihJeFVxXcce8AQwbr2ByTWkwIrn36iA/lcyFVKS0IyY4yvmXGFbT7knYur3904HBHWKPWzM4gIyYSh+delLM6smH2QZa1GOMUkGNQ5iT56NNEMtm4pk4XGTyGF2A3mfwbHAtnioEnkfAyYJUllXtieip/54wdfKe5mFdggPnYRYoEorwVJ1Tbs7HWozPhNzdjqdRXUDbllJjqB60ZUMrbSnaLIp4ZwBaEWs71+xHxet3NUY/KyDSPLyhZ4HmWf1mMRKYzADeUvRUn1PORebjIpYPsU1HLoEIU8ea0ZyJOKMZXaPtUu9sjDLda8bBtkibxnRA7Y9Uni9jpTIrcq42spPXKqfQWshHEaveK/xmcgUK6wz/CmHpL4O5C5dtRwj3QvmDN0/dxQadTG7irahuJeFobPG3+3OiVUylgZ7ozlxYV1fvHopKPHIGtqTxfWQo4mZb0yv41XU/FfGQfzE5NjVzRcbWm4DvUGu1w2JG1qaH4g0rZUwI8sVzwvWEBzRbxLQfKfRkyI0Eln8/HzH/ivpFWKpUTNo6QU0ZOeLXmdJ/AVoMWDjwUTTVc5RC9mkFdfEF72sodS71CsW4meq/6r20YYiDAtRfRzlp3keQpCyejFwjw5Du4iPSwysrEwVXvxO7AxXryrVDDkVwxxMixcFutO0wQy1RThMrVb9GxPkitu6jwW/h+HJ12/wTot5S6o7qG8SYOL8Xz/Y0iBPy9uw8YGsgfhEL4IaI4ejMjRIgQIUKECBEiRIgQIUKECBEiRIgQIUKECBEiRIgQ94v/A8I9jALsB05eAAAAAElFTkSuQmCC) "
   ]
  },
  {
   "cell_type": "code",
   "execution_count": 39,
   "metadata": {
    "execution": {
     "iopub.execute_input": "2020-11-18T12:53:56.264773Z",
     "iopub.status.busy": "2020-11-18T12:53:56.263752Z",
     "iopub.status.idle": "2020-11-18T12:53:56.268678Z",
     "shell.execute_reply": "2020-11-18T12:53:56.268076Z"
    },
    "papermill": {
     "duration": 0.081485,
     "end_time": "2020-11-18T12:53:56.268785",
     "exception": false,
     "start_time": "2020-11-18T12:53:56.187300",
     "status": "completed"
    },
    "tags": []
   },
   "outputs": [],
   "source": [
    "y = tr_fe['Item_Outlet_Sales']\n",
    "X = tr_fe.drop('Item_Outlet_Sales', axis = 1)\n",
    "X_train, X_test, y_train, y_test = train_test_split(X, y, test_size = 0.8, random_state = 0)"
   ]
  },
  {
   "cell_type": "code",
   "execution_count": 40,
   "metadata": {
    "execution": {
     "iopub.execute_input": "2020-11-18T12:53:56.409660Z",
     "iopub.status.busy": "2020-11-18T12:53:56.409025Z",
     "iopub.status.idle": "2020-11-18T12:53:56.411697Z",
     "shell.execute_reply": "2020-11-18T12:53:56.411196Z"
    },
    "papermill": {
     "duration": 0.075524,
     "end_time": "2020-11-18T12:53:56.411805",
     "exception": false,
     "start_time": "2020-11-18T12:53:56.336281",
     "status": "completed"
    },
    "tags": []
   },
   "outputs": [],
   "source": [
    "def cross_val(model_name,model,X,y,cv):\n",
    "    \n",
    "    scores = CVS(model, X, y, cv=cv)\n",
    "    print(f'{model_name} Scores:')\n",
    "    for i in scores:\n",
    "        print(round(i,2))\n",
    "    print(f'Average {model_name} score: {round(scores.mean(),4)}')"
   ]
  },
  {
   "cell_type": "markdown",
   "metadata": {
    "papermill": {
     "duration": 0.066561,
     "end_time": "2020-11-18T12:53:56.545840",
     "exception": false,
     "start_time": "2020-11-18T12:53:56.479279",
     "status": "completed"
    },
    "tags": []
   },
   "source": [
    "## Linear Regression\n",
    "\n",
    "![](https://cdn.filestackcontent.com/WCbMsxiSLW2H1SyqunQm)\n",
    "\n",
    "In statistics, linear regression is a linear approach to modelling the relationship between a scalar response (or dependent variable) and one or more explanatory variables (or independent variables).\n",
    "\n",
    "Linear regression was the first type of regression analysis to be studied rigorously, and to be used extensively in practical applications. This is because models which depend linearly on their unknown parameters are easier to fit than models which are non-linearly related to their parameters and because the statistical properties of the resulting estimators are easier to determine (more info on [wikipedia](https://en.wikipedia.org/wiki/Linear_regression)).\n"
   ]
  },
  {
   "cell_type": "code",
   "execution_count": 41,
   "metadata": {
    "execution": {
     "iopub.execute_input": "2020-11-18T12:53:56.691223Z",
     "iopub.status.busy": "2020-11-18T12:53:56.690508Z",
     "iopub.status.idle": "2020-11-18T12:53:56.837345Z",
     "shell.execute_reply": "2020-11-18T12:53:56.836689Z"
    },
    "papermill": {
     "duration": 0.224531,
     "end_time": "2020-11-18T12:53:56.837464",
     "exception": false,
     "start_time": "2020-11-18T12:53:56.612933",
     "status": "completed"
    },
    "tags": []
   },
   "outputs": [
    {
     "name": "stdout",
     "output_type": "stream",
     "text": [
      " Mean Absolute Error: 838.2\n",
      "\n",
      " Mean Squared Error: 1285809.57\n",
      "\n",
      " R^2 Score: 0.5593\n",
      "\n",
      "LinearRegression(normalize=True) Scores:\n",
      "0.57\n",
      "0.55\n",
      "0.55\n",
      "0.56\n",
      "0.56\n",
      "Average LinearRegression(normalize=True) score: 0.558\n"
     ]
    }
   ],
   "source": [
    "#model\n",
    "LR = LinearRegression(normalize=True)\n",
    "\n",
    "#fit\n",
    "LR.fit(X_train, y_train)\n",
    "\n",
    "#predict\n",
    "y_predict = LR.predict(X_test)\n",
    "\n",
    "#score variables\n",
    "LR_MAE = round(MAE(y_test, y_predict),2)\n",
    "LR_MSE = round(MSE(y_test, y_predict),2)\n",
    "LR_R_2 = round(R2(y_test, y_predict),4)\n",
    "LR_CS  = round(CVS(LR, X, y, cv=5).mean(),4)\n",
    "\n",
    "print(f\" Mean Absolute Error: {LR_MAE}\\n\")\n",
    "print(f\" Mean Squared Error: {LR_MSE}\\n\")\n",
    "print(f\" R^2 Score: {LR_R_2}\\n\")\n",
    "cross_val(LR,LinearRegression(),X,y,5)"
   ]
  },
  {
   "cell_type": "markdown",
   "metadata": {
    "papermill": {
     "duration": 0.067912,
     "end_time": "2020-11-18T12:53:56.974504",
     "exception": false,
     "start_time": "2020-11-18T12:53:56.906592",
     "status": "completed"
    },
    "tags": []
   },
   "source": [
    "### Csv results of the test for our model:\n",
    "![](https://media2.giphy.com/media/26DN2iTaW5mmmJtug/200.webp?cid=ecf05e47ceq530n5mwtmqi7lb6tg74y5k2ji2pte6j5ckita&rid=200.webp)\n",
    "You can see each predition and true value side by side by the csv created in the output directory."
   ]
  },
  {
   "cell_type": "code",
   "execution_count": 42,
   "metadata": {
    "execution": {
     "iopub.execute_input": "2020-11-18T12:53:57.116061Z",
     "iopub.status.busy": "2020-11-18T12:53:57.115361Z",
     "iopub.status.idle": "2020-11-18T12:53:57.379471Z",
     "shell.execute_reply": "2020-11-18T12:53:57.378760Z"
    },
    "papermill": {
     "duration": 0.337197,
     "end_time": "2020-11-18T12:53:57.379598",
     "exception": false,
     "start_time": "2020-11-18T12:53:57.042401",
     "status": "completed"
    },
    "tags": []
   },
   "outputs": [],
   "source": [
    "Linear_Regression=pd.DataFrame({'y_test':y_test,'prediction':y_predict})\n",
    "Linear_Regression.to_csv(\"Linear Regression.csv\")     "
   ]
  },
  {
   "cell_type": "markdown",
   "metadata": {
    "papermill": {
     "duration": 0.067278,
     "end_time": "2020-11-18T12:53:57.515532",
     "exception": false,
     "start_time": "2020-11-18T12:53:57.448254",
     "status": "completed"
    },
    "tags": []
   },
   "source": [
    "## Random Forest Regressor\n",
    "\n",
    "![](https://lh3.googleusercontent.com/proxy/V_3AWj1s3kBvrcJEUczXaoNlIVmToUBGxo_wuNSM2B3NNUs1q31KuEETmfxw3jIfiJ5H3SkjTCs9rq8BOgRZnP-ZIZBjLwVMRMchhNeV0SJQknEdTd4dhjrULXqViViMORUPWvoGMQuGYol-sj5lIEXKuHo4ouNxp3-m-sOUkzDbZ10Ph-a769ugPqsTLvJLlfhr0sbSz6Y0=s0-d)\n",
    "\n",
    "Random forest is a Supervised Learning algorithm which uses ensemble learning method for classification and regression.\n",
    "It operates by constructing a multitude of decision trees at training time and outputting the class that is the mode of the classes (classification) or mean prediction (regression) of the individual trees (more info on [medium](https://medium.com/swlh/random-forest-and-its-implementation-71824ced454f)).\n"
   ]
  },
  {
   "cell_type": "code",
   "execution_count": 43,
   "metadata": {
    "execution": {
     "iopub.execute_input": "2020-11-18T12:53:57.661465Z",
     "iopub.status.busy": "2020-11-18T12:53:57.660799Z",
     "iopub.status.idle": "2020-11-18T12:54:23.522007Z",
     "shell.execute_reply": "2020-11-18T12:54:23.521127Z"
    },
    "papermill": {
     "duration": 25.939204,
     "end_time": "2020-11-18T12:54:23.522166",
     "exception": false,
     "start_time": "2020-11-18T12:53:57.582962",
     "status": "completed"
    },
    "tags": []
   },
   "outputs": [
    {
     "name": "stdout",
     "output_type": "stream",
     "text": [
      " Mean Absolute Error: 1030.27\n",
      "\n",
      " Mean Squared Error: 1964025.66\n",
      "\n",
      " R^2 Score: 0.3268\n",
      "\n",
      "RandomForestRegressor(max_depth=5, min_samples_leaf=100, n_estimators=200,\n",
      "                      n_jobs=4, random_state=101) Scores:\n",
      "0.57\n",
      "0.53\n",
      "0.51\n",
      "0.56\n",
      "0.56\n",
      "Average RandomForestRegressor(max_depth=5, min_samples_leaf=100, n_estimators=200,\n",
      "                      n_jobs=4, random_state=101) score: 0.546\n"
     ]
    }
   ],
   "source": [
    "#model\n",
    "RFR= RandomForestRegressor(n_estimators=200,max_depth=5, min_samples_leaf=100,n_jobs=4,random_state=101)\n",
    "#fit\n",
    "RFR.fit(X_train, y_train)\n",
    "#predict\n",
    "y_predict = RFR.predict(X_test)\n",
    "\n",
    "#score variables\n",
    "RFR_MAE = round(MAE(y_test, y_predict),2)\n",
    "RFR_MSE = round(MSE(y_test, y_predict),2)\n",
    "RFR_R_2 = round(R2(y_test, y_predict),4)\n",
    "RFR_CS  = round(CVS(RFR, X, y, cv=5).mean(),4)\n",
    "\n",
    "\n",
    "\n",
    "print(f\" Mean Absolute Error: {RFR_MAE}\\n\")\n",
    "print(f\" Mean Squared Error: {RFR_MSE}\\n\")\n",
    "print(f\" R^2 Score: {RFR_R_2}\\n\")\n",
    "cross_val(RFR,RandomForestRegressor(),X,y,5)\n"
   ]
  },
  {
   "cell_type": "markdown",
   "metadata": {
    "papermill": {
     "duration": 0.068837,
     "end_time": "2020-11-18T12:54:23.660773",
     "exception": false,
     "start_time": "2020-11-18T12:54:23.591936",
     "status": "completed"
    },
    "tags": []
   },
   "source": [
    "### Csv results of the test for our model:\n",
    "![](https://media2.giphy.com/media/26DN2iTaW5mmmJtug/200.webp?cid=ecf05e47ceq530n5mwtmqi7lb6tg74y5k2ji2pte6j5ckita&rid=200.webp)\n",
    "You can see each predition and true value side by side by the csv created in the output directory."
   ]
  },
  {
   "cell_type": "code",
   "execution_count": 44,
   "metadata": {
    "execution": {
     "iopub.execute_input": "2020-11-18T12:54:23.806035Z",
     "iopub.status.busy": "2020-11-18T12:54:23.805395Z",
     "iopub.status.idle": "2020-11-18T12:54:23.835685Z",
     "shell.execute_reply": "2020-11-18T12:54:23.834960Z"
    },
    "papermill": {
     "duration": 0.10618,
     "end_time": "2020-11-18T12:54:23.835811",
     "exception": false,
     "start_time": "2020-11-18T12:54:23.729631",
     "status": "completed"
    },
    "tags": []
   },
   "outputs": [],
   "source": [
    "Random_Forest_Regressor=pd.DataFrame({'y_test':y_test,'prediction':y_predict})\n",
    "Random_Forest_Regressor.to_csv(\"Random Forest Regressor.csv\")     "
   ]
  },
  {
   "cell_type": "markdown",
   "metadata": {
    "papermill": {
     "duration": 0.068399,
     "end_time": "2020-11-18T12:54:23.973544",
     "exception": false,
     "start_time": "2020-11-18T12:54:23.905145",
     "status": "completed"
    },
    "tags": []
   },
   "source": [
    "## Lasso Regressor\n",
    "\n",
    "![](data:image/png;base64,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)\n",
    "\n",
    "In statistics and machine learning, lasso (least absolute shrinkage and selection operator; also Lasso or LASSO) is a regression analysis method that performs both variable selection and regularization in order to enhance the prediction accuracy and interpretability of the statistical model it produces  - more info on [wikipedia.](https://en.wikipedia.org/wiki/Lasso_(statistics)) \n"
   ]
  },
  {
   "cell_type": "code",
   "execution_count": 45,
   "metadata": {
    "execution": {
     "iopub.execute_input": "2020-11-18T12:54:24.121285Z",
     "iopub.status.busy": "2020-11-18T12:54:24.120636Z",
     "iopub.status.idle": "2020-11-18T12:54:26.103779Z",
     "shell.execute_reply": "2020-11-18T12:54:26.104439Z"
    },
    "papermill": {
     "duration": 2.062013,
     "end_time": "2020-11-18T12:54:26.104632",
     "exception": false,
     "start_time": "2020-11-18T12:54:24.042619",
     "status": "completed"
    },
    "tags": []
   },
   "outputs": [
    {
     "name": "stdout",
     "output_type": "stream",
     "text": [
      " Mean Absolute Error: 838.07\n",
      "\n",
      " Mean Squared Error: 1285554.86\n",
      "\n",
      " R^2 Score: 0.5594\n",
      "\n",
      "Lasso(alpha=0.05) Scores:\n",
      "0.57\n",
      "0.55\n",
      "0.55\n",
      "0.56\n",
      "0.56\n",
      "Average Lasso(alpha=0.05) score: 0.5581\n"
     ]
    }
   ],
   "source": [
    "#model\n",
    "LS = Lasso(alpha = 0.05)\n",
    "#fit\n",
    "LS.fit(X_train,y_train)\n",
    "\n",
    "#predict\n",
    "y_predict = LS.predict(X_test)\n",
    "\n",
    "#score variables\n",
    "LS_MAE = round(MAE(y_test, y_predict),2)\n",
    "LS_MSE = round(MSE(y_test, y_predict),2)\n",
    "LS_R_2 = round(R2(y_test, y_predict),4)\n",
    "LS_CS  = round(CVS(LS, X, y, cv=5).mean(),4)\n",
    "\n",
    "print(f\" Mean Absolute Error: {LS_MAE}\\n\")\n",
    "print(f\" Mean Squared Error: {LS_MSE}\\n\")\n",
    "print(f\" R^2 Score: {LS_R_2}\\n\")\n",
    "cross_val(LS,Lasso(alpha = 0.05),X,y,5)"
   ]
  },
  {
   "cell_type": "markdown",
   "metadata": {
    "papermill": {
     "duration": 0.069641,
     "end_time": "2020-11-18T12:54:26.248754",
     "exception": false,
     "start_time": "2020-11-18T12:54:26.179113",
     "status": "completed"
    },
    "tags": []
   },
   "source": [
    "### Csv results of the test for our model:\n",
    "![](https://media2.giphy.com/media/26DN2iTaW5mmmJtug/200.webp?cid=ecf05e47ceq530n5mwtmqi7lb6tg74y5k2ji2pte6j5ckita&rid=200.webp)\n",
    "You can see each predition and true value side by side by the csv created in the output directory."
   ]
  },
  {
   "cell_type": "code",
   "execution_count": 46,
   "metadata": {
    "execution": {
     "iopub.execute_input": "2020-11-18T12:54:26.394961Z",
     "iopub.status.busy": "2020-11-18T12:54:26.394370Z",
     "iopub.status.idle": "2020-11-18T12:54:26.424477Z",
     "shell.execute_reply": "2020-11-18T12:54:26.423771Z"
    },
    "papermill": {
     "duration": 0.105724,
     "end_time": "2020-11-18T12:54:26.424591",
     "exception": false,
     "start_time": "2020-11-18T12:54:26.318867",
     "status": "completed"
    },
    "tags": []
   },
   "outputs": [],
   "source": [
    "Lasso_Regressor=pd.DataFrame({'y_test':y_test,'prediction':y_predict})\n",
    "Lasso_Regressor.to_csv(\"Lasso Regressor.csv\")     "
   ]
  },
  {
   "cell_type": "markdown",
   "metadata": {
    "papermill": {
     "duration": 0.069204,
     "end_time": "2020-11-18T12:54:26.564092",
     "exception": false,
     "start_time": "2020-11-18T12:54:26.494888",
     "status": "completed"
    },
    "tags": []
   },
   "source": [
    "# Conclusion\n",
    "\n",
    "![](https://thumbs.gfycat.com/ShamelessRaggedErin-size_restricted.gif)"
   ]
  },
  {
   "cell_type": "code",
   "execution_count": 47,
   "metadata": {
    "execution": {
     "iopub.execute_input": "2020-11-18T12:54:26.720628Z",
     "iopub.status.busy": "2020-11-18T12:54:26.719882Z",
     "iopub.status.idle": "2020-11-18T12:54:26.723393Z",
     "shell.execute_reply": "2020-11-18T12:54:26.723834Z"
    },
    "papermill": {
     "duration": 0.090221,
     "end_time": "2020-11-18T12:54:26.723982",
     "exception": false,
     "start_time": "2020-11-18T12:54:26.633761",
     "status": "completed"
    },
    "tags": []
   },
   "outputs": [
    {
     "data": {
      "text/html": [
       "<div>\n",
       "<style scoped>\n",
       "    .dataframe tbody tr th:only-of-type {\n",
       "        vertical-align: middle;\n",
       "    }\n",
       "\n",
       "    .dataframe tbody tr th {\n",
       "        vertical-align: top;\n",
       "    }\n",
       "\n",
       "    .dataframe thead th {\n",
       "        text-align: right;\n",
       "    }\n",
       "</style>\n",
       "<table border=\"1\" class=\"dataframe\">\n",
       "  <thead>\n",
       "    <tr style=\"text-align: right;\">\n",
       "      <th></th>\n",
       "      <th>models</th>\n",
       "      <th>MAE</th>\n",
       "      <th>MSE</th>\n",
       "      <th>R^2</th>\n",
       "      <th>Cross Validation Score</th>\n",
       "    </tr>\n",
       "  </thead>\n",
       "  <tbody>\n",
       "    <tr>\n",
       "      <th>2</th>\n",
       "      <td>Lasso Regressor</td>\n",
       "      <td>838.07</td>\n",
       "      <td>1285554.86</td>\n",
       "      <td>0.5594</td>\n",
       "      <td>0.5581</td>\n",
       "    </tr>\n",
       "    <tr>\n",
       "      <th>0</th>\n",
       "      <td>Linear Regression</td>\n",
       "      <td>838.20</td>\n",
       "      <td>1285809.57</td>\n",
       "      <td>0.5593</td>\n",
       "      <td>0.5580</td>\n",
       "    </tr>\n",
       "    <tr>\n",
       "      <th>1</th>\n",
       "      <td>Random Forest Regressor</td>\n",
       "      <td>1030.27</td>\n",
       "      <td>1964025.66</td>\n",
       "      <td>0.3268</td>\n",
       "      <td>0.5920</td>\n",
       "    </tr>\n",
       "  </tbody>\n",
       "</table>\n",
       "</div>"
      ],
      "text/plain": [
       "                    models      MAE         MSE     R^2  \\\n",
       "2          Lasso Regressor   838.07  1285554.86  0.5594   \n",
       "0        Linear Regression   838.20  1285809.57  0.5593   \n",
       "1  Random Forest Regressor  1030.27  1964025.66  0.3268   \n",
       "\n",
       "   Cross Validation Score  \n",
       "2                  0.5581  \n",
       "0                  0.5580  \n",
       "1                  0.5920  "
      ]
     },
     "execution_count": 47,
     "metadata": {},
     "output_type": "execute_result"
    }
   ],
   "source": [
    "MAE= [LR_MAE,RFR_MAE,LS_MAE]\n",
    "MSE= [LR_MSE,RFR_MSE,LS_MSE]\n",
    "R_2= [LR_R_2,RFR_R_2,LS_R_2]\n",
    "Cross_score= [LR_CS,RFR_CS,LS_CS]\n",
    "\n",
    "Models = pd.DataFrame({\n",
    "    'models': [\"Linear Regression\",\"Random Forest Regressor\",\"Lasso Regressor\"],\n",
    "    'MAE': MAE, 'MSE': MSE, 'R^2':R_2, 'Cross Validation Score':Cross_score})\n",
    "Models.sort_values(by='MAE', ascending=True)"
   ]
  },
  {
   "cell_type": "markdown",
   "metadata": {
    "papermill": {
     "duration": 0.06975,
     "end_time": "2020-11-18T12:54:26.864440",
     "exception": false,
     "start_time": "2020-11-18T12:54:26.794690",
     "status": "completed"
    },
    "tags": []
   },
   "source": [
    "## Realizations\n",
    "\n",
    "* `Item_MRP`  optimizes Maximum Outlet sales (positive correlation with the target).\n",
    "* Linear Regression\tand Lasso Regressor have the best perfomance in most categories.\n",
    "* only a third of the observed variation can be explained by the model's inputs of Random Forest Regressor, there for it's performance is not optimal even though his cross validation is the highest.\n",
    "* For better peformance this models need tuning e.g. Grid Search."
   ]
  },
  {
   "cell_type": "markdown",
   "metadata": {
    "papermill": {
     "duration": 0.069768,
     "end_time": "2020-11-18T12:54:27.004599",
     "exception": false,
     "start_time": "2020-11-18T12:54:26.934831",
     "status": "completed"
    },
    "tags": []
   },
   "source": [
    "# <h2 style='text-align:center;font-family:Comic Sans MS;font-size:40px;background-color:coral;border:20px;color:white'>Please Upvote and Comment!🔼<h2>\n",
    "![](https://i.imgur.com/IUeYEqv.gif)\n",
    "    \n",
    "![](data:image/png;base64,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)    \n",
    "# <h2 style='text-align:center;font-family:Comic Sans MS;font-size:40px;background-color:coral;border:20px;color:white'>the end<h2>\n"
   ]
  },
  {
   "cell_type": "code",
   "execution_count": null,
   "metadata": {},
   "outputs": [],
   "source": []
  },
  {
   "cell_type": "code",
   "execution_count": null,
   "metadata": {},
   "outputs": [],
   "source": []
  },
  {
   "cell_type": "code",
   "execution_count": null,
   "metadata": {},
   "outputs": [],
   "source": []
  }
 ],
 "metadata": {
  "kernelspec": {
   "display_name": "Python 3 (ipykernel)",
   "language": "python",
   "name": "python3"
  },
  "language_info": {
   "codemirror_mode": {
    "name": "ipython",
    "version": 3
   },
   "file_extension": ".py",
   "mimetype": "text/x-python",
   "name": "python",
   "nbconvert_exporter": "python",
   "pygments_lexer": "ipython3",
   "version": "3.9.13"
  },
  "papermill": {
   "duration": 49.805056,
   "end_time": "2020-11-18T12:54:28.175581",
   "environment_variables": {},
   "exception": null,
   "input_path": "__notebook__.ipynb",
   "output_path": "__notebook__.ipynb",
   "parameters": {},
   "start_time": "2020-11-18T12:53:38.370525",
   "version": "2.1.0"
  }
 },
 "nbformat": 4,
 "nbformat_minor": 4
}
